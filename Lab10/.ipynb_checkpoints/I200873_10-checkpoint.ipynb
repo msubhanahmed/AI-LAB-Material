{
 "cells": [
  {
   "cell_type": "code",
   "execution_count": 1,
   "metadata": {},
   "outputs": [],
   "source": [
    "# !pip install scikit.learn"
   ]
  },
  {
   "cell_type": "markdown",
   "metadata": {},
   "source": [
    "### Necessary Imports\n",
    "- NumPy\n",
    "- Pandas\n",
    "- Math\n",
    "- Copy\n",
    "- Train Test Split"
   ]
  },
  {
   "cell_type": "code",
   "execution_count": 2,
   "metadata": {},
   "outputs": [],
   "source": [
    "# Importing libraries\n",
    "import numpy as np\n",
    "import pandas as pd\n",
    "import math\n",
    "import copy\n",
    "from sklearn.model_selection import train_test_split\n",
    "from queue import PriorityQueue"
   ]
  },
  {
   "cell_type": "markdown",
   "metadata": {},
   "source": [
    "### Load the Dataset"
   ]
  },
  {
   "cell_type": "code",
   "execution_count": 3,
   "metadata": {},
   "outputs": [
    {
     "data": {
      "text/html": [
       "<div>\n",
       "<style scoped>\n",
       "    .dataframe tbody tr th:only-of-type {\n",
       "        vertical-align: middle;\n",
       "    }\n",
       "\n",
       "    .dataframe tbody tr th {\n",
       "        vertical-align: top;\n",
       "    }\n",
       "\n",
       "    .dataframe thead th {\n",
       "        text-align: right;\n",
       "    }\n",
       "</style>\n",
       "<table border=\"1\" class=\"dataframe\">\n",
       "  <thead>\n",
       "    <tr style=\"text-align: right;\">\n",
       "      <th></th>\n",
       "      <th>Area</th>\n",
       "      <th>Perimeter.</th>\n",
       "      <th>Compactness</th>\n",
       "      <th>Length of kernel</th>\n",
       "      <th>Width of kernel</th>\n",
       "      <th>Asymmetry coefficient</th>\n",
       "      <th>Length of kernel groove</th>\n",
       "      <th>class</th>\n",
       "    </tr>\n",
       "  </thead>\n",
       "  <tbody>\n",
       "    <tr>\n",
       "      <th>0</th>\n",
       "      <td>15.26</td>\n",
       "      <td>14.84</td>\n",
       "      <td>0.8710</td>\n",
       "      <td>5.763</td>\n",
       "      <td>3.312</td>\n",
       "      <td>2.221</td>\n",
       "      <td>5.220</td>\n",
       "      <td>1</td>\n",
       "    </tr>\n",
       "    <tr>\n",
       "      <th>1</th>\n",
       "      <td>14.88</td>\n",
       "      <td>14.57</td>\n",
       "      <td>0.8811</td>\n",
       "      <td>5.554</td>\n",
       "      <td>3.333</td>\n",
       "      <td>1.018</td>\n",
       "      <td>4.956</td>\n",
       "      <td>1</td>\n",
       "    </tr>\n",
       "    <tr>\n",
       "      <th>2</th>\n",
       "      <td>14.29</td>\n",
       "      <td>14.09</td>\n",
       "      <td>0.9050</td>\n",
       "      <td>5.291</td>\n",
       "      <td>3.337</td>\n",
       "      <td>2.699</td>\n",
       "      <td>4.825</td>\n",
       "      <td>1</td>\n",
       "    </tr>\n",
       "    <tr>\n",
       "      <th>3</th>\n",
       "      <td>13.84</td>\n",
       "      <td>13.94</td>\n",
       "      <td>0.8955</td>\n",
       "      <td>5.324</td>\n",
       "      <td>3.379</td>\n",
       "      <td>2.259</td>\n",
       "      <td>4.805</td>\n",
       "      <td>1</td>\n",
       "    </tr>\n",
       "    <tr>\n",
       "      <th>4</th>\n",
       "      <td>16.14</td>\n",
       "      <td>14.99</td>\n",
       "      <td>0.9034</td>\n",
       "      <td>5.658</td>\n",
       "      <td>3.562</td>\n",
       "      <td>1.355</td>\n",
       "      <td>5.175</td>\n",
       "      <td>1</td>\n",
       "    </tr>\n",
       "    <tr>\n",
       "      <th>...</th>\n",
       "      <td>...</td>\n",
       "      <td>...</td>\n",
       "      <td>...</td>\n",
       "      <td>...</td>\n",
       "      <td>...</td>\n",
       "      <td>...</td>\n",
       "      <td>...</td>\n",
       "      <td>...</td>\n",
       "    </tr>\n",
       "    <tr>\n",
       "      <th>205</th>\n",
       "      <td>12.19</td>\n",
       "      <td>13.20</td>\n",
       "      <td>0.8783</td>\n",
       "      <td>5.137</td>\n",
       "      <td>2.981</td>\n",
       "      <td>3.631</td>\n",
       "      <td>4.870</td>\n",
       "      <td>3</td>\n",
       "    </tr>\n",
       "    <tr>\n",
       "      <th>206</th>\n",
       "      <td>11.23</td>\n",
       "      <td>12.88</td>\n",
       "      <td>0.8511</td>\n",
       "      <td>5.140</td>\n",
       "      <td>2.795</td>\n",
       "      <td>4.325</td>\n",
       "      <td>5.003</td>\n",
       "      <td>3</td>\n",
       "    </tr>\n",
       "    <tr>\n",
       "      <th>207</th>\n",
       "      <td>13.20</td>\n",
       "      <td>13.66</td>\n",
       "      <td>0.8883</td>\n",
       "      <td>5.236</td>\n",
       "      <td>3.232</td>\n",
       "      <td>8.315</td>\n",
       "      <td>5.056</td>\n",
       "      <td>3</td>\n",
       "    </tr>\n",
       "    <tr>\n",
       "      <th>208</th>\n",
       "      <td>11.84</td>\n",
       "      <td>13.21</td>\n",
       "      <td>0.8521</td>\n",
       "      <td>5.175</td>\n",
       "      <td>2.836</td>\n",
       "      <td>3.598</td>\n",
       "      <td>5.044</td>\n",
       "      <td>3</td>\n",
       "    </tr>\n",
       "    <tr>\n",
       "      <th>209</th>\n",
       "      <td>12.30</td>\n",
       "      <td>13.34</td>\n",
       "      <td>0.8684</td>\n",
       "      <td>5.243</td>\n",
       "      <td>2.974</td>\n",
       "      <td>5.637</td>\n",
       "      <td>5.063</td>\n",
       "      <td>3</td>\n",
       "    </tr>\n",
       "  </tbody>\n",
       "</table>\n",
       "<p>210 rows × 8 columns</p>\n",
       "</div>"
      ],
      "text/plain": [
       "      Area  Perimeter.  Compactness  Length of kernel  Width of kernel  \\\n",
       "0    15.26       14.84       0.8710             5.763            3.312   \n",
       "1    14.88       14.57       0.8811             5.554            3.333   \n",
       "2    14.29       14.09       0.9050             5.291            3.337   \n",
       "3    13.84       13.94       0.8955             5.324            3.379   \n",
       "4    16.14       14.99       0.9034             5.658            3.562   \n",
       "..     ...         ...          ...               ...              ...   \n",
       "205  12.19       13.20       0.8783             5.137            2.981   \n",
       "206  11.23       12.88       0.8511             5.140            2.795   \n",
       "207  13.20       13.66       0.8883             5.236            3.232   \n",
       "208  11.84       13.21       0.8521             5.175            2.836   \n",
       "209  12.30       13.34       0.8684             5.243            2.974   \n",
       "\n",
       "     Asymmetry coefficient  Length of kernel groove  class  \n",
       "0                    2.221                    5.220      1  \n",
       "1                    1.018                    4.956      1  \n",
       "2                    2.699                    4.825      1  \n",
       "3                    2.259                    4.805      1  \n",
       "4                    1.355                    5.175      1  \n",
       "..                     ...                      ...    ...  \n",
       "205                  3.631                    4.870      3  \n",
       "206                  4.325                    5.003      3  \n",
       "207                  8.315                    5.056      3  \n",
       "208                  3.598                    5.044      3  \n",
       "209                  5.637                    5.063      3  \n",
       "\n",
       "[210 rows x 8 columns]"
      ]
     },
     "execution_count": 3,
     "metadata": {},
     "output_type": "execute_result"
    }
   ],
   "source": [
    "# Load the dataset using pandas\n",
    "data = pd.read_csv('seeds_dataset.csv')\n",
    "# Print the dataset\n",
    "data"
   ]
  },
  {
   "cell_type": "markdown",
   "metadata": {},
   "source": [
    "### Perform Some Preprocessing"
   ]
  },
  {
   "cell_type": "code",
   "execution_count": 4,
   "metadata": {},
   "outputs": [],
   "source": [
    "# Extract the class labels into a numpy array called 'y'\n",
    "Y = data['class'].to_numpy()\n",
    "# Remove the class labels from the dataframe and store the remaining data in a numpy array called 'X'\n",
    "X = data.drop('class' , axis = 1).to_numpy()"
   ]
  },
  {
   "cell_type": "code",
   "execution_count": 5,
   "metadata": {},
   "outputs": [],
   "source": [
    "# Split the dataset into training and testing\n",
    "x_train,x_test,y_train,y_test = train_test_split(X,Y,test_size = 0.2)"
   ]
  },
  {
   "cell_type": "code",
   "execution_count": 6,
   "metadata": {},
   "outputs": [
    {
     "name": "stdout",
     "output_type": "stream",
     "text": [
      "Training Data Set Dimensions (168, 7), Training True Class lables Dimension (168,)\n",
      "Test Data Set Dimensions (42, 7), Test True Class lables Dimension (42,)\n"
     ]
    }
   ],
   "source": [
    "# Print the dimensions of the training and testing data\n",
    "print(\"Training Data Set Dimensions \"+str(x_train.shape)+\", Training True Class lables Dimension \"+str(y_train.shape))\n",
    "print(\"Test Data Set Dimensions \"+str(x_test.shape)+\", Test True Class lables Dimension \"+str(y_test.shape))"
   ]
  },
  {
   "cell_type": "markdown",
   "metadata": {},
   "source": [
    "### Define the Following Functions"
   ]
  },
  {
   "cell_type": "code",
   "execution_count": 7,
   "metadata": {},
   "outputs": [],
   "source": [
    "def euclidean_distance(predicted, target):\n",
    "    # Calculate the Euclidean distance between the predicted and target values\n",
    "    distance = 0\n",
    "    for i in range(len(predicted)):\n",
    "        sq = abs(target[i]-predicted[i])**2\n",
    "        distance+= sq\n",
    "    return distance**0.5"
   ]
  },
  {
   "cell_type": "code",
   "execution_count": 8,
   "metadata": {},
   "outputs": [],
   "source": [
    "def get_k_nearest(distances, k):\n",
    "    # Sort the list of distances in ascending order\n",
    "    newd = sorted(distances,key= lambda x:x[0])\n",
    "    # Get the first 'k' distances from the sorted list and return them\n",
    "    return newd[:k]"
   ]
  },
  {
   "cell_type": "code",
   "execution_count": 9,
   "metadata": {},
   "outputs": [],
   "source": [
    "def get_max_class(classes):\n",
    "    \"\"\"\n",
    "    Short Method: \n",
    "        myclass,values =np.unique(classes,return_counts=True)\n",
    "        index = np.argmax(values)\n",
    "        return myclass[index]\n",
    "    \"\"\"\n",
    "    # Get the unique values and their counts\n",
    "    max_class = None\n",
    "    max_count = float('-inf')\n",
    "    # Get the index of the maximum count value\n",
    "    for i in classes:\n",
    "        if (classes.count(i)> max_count):\n",
    "            max_count = classes.count(i)\n",
    "            max_class = i\n",
    "    # Return the class with the maximum count\n",
    "    return max_class"
   ]
  },
  {
   "cell_type": "code",
   "execution_count": 10,
   "metadata": {},
   "outputs": [],
   "source": [
    "def get_classes_only(k_nearest):\n",
    "    # Use list comprehension to extract the class labels from k_nearest tuples\n",
    "    newlist = [i[1] for i in k_nearest]\n",
    "    return newlist"
   ]
  },
  {
   "cell_type": "code",
   "execution_count": 11,
   "metadata": {},
   "outputs": [],
   "source": [
    "def calculate_accuracy(prediction, target):\n",
    "    # Calculate the accuracy of the predictions\n",
    "    accuracy = float(0.0)\n",
    "    count = int(0)\n",
    "    \n",
    "    for i in range(len(prediction)):\n",
    "        if prediction[i] == target[i]:\n",
    "            count += 1\n",
    "    accuracy = (count/len(prediction))*100\n",
    "    print(\"Calculated Accuracy:  \" +str(accuracy))\n",
    "    \n",
    "    \"\"\"\n",
    "    Short Method: \n",
    "    return np.mean(predicted==target)*100\n",
    "    \"\"\""
   ]
  },
  {
   "cell_type": "markdown",
   "metadata": {},
   "source": [
    "### Define KNN Running Script Function"
   ]
  },
  {
   "cell_type": "code",
   "execution_count": 16,
   "metadata": {},
   "outputs": [],
   "source": [
    "# Using the KNN Supervised Learning Algorithm for the model\n",
    "# It will help us classify the quality of wheat seeds\n",
    "\n",
    "# Defining the KNN function\n",
    "def KNN(x_train,x_test,y_train, k):\n",
    "    # Initialize an empty list to store the predicted labels for the test set\n",
    "    predicted_labels = []\n",
    "    # Iterate over each instance in the test set\n",
    "    for i in range(len(x_test)):\n",
    "        # Initialize an empty list to store the distances and labels of all training instances with respect to the current test instance\n",
    "        distance = []\n",
    "        # Iterate over each instance in the training set\n",
    "        for j in range(len(x_train)):\n",
    "            # Calculate the Euclidean distance between the current test instance and the current training instance\n",
    "            distance.append((euclidean_distance(x_train[j],x_test[i]),y_train[j]))\n",
    "            # Store the distance and the label of the current training instance as a tuple in the info list\n",
    "        # Find the k nearest training instances based on their distances to the current test instance\n",
    "        nearest_k = get_k_nearest(distance,k)\n",
    "        # Extract the labels of the k nearest training instances\n",
    "        k_lables = get_classes_only(nearest_k)\n",
    "        # Predict the label of the current test instance by choosing the label with the highest frequency among the k nearest training instances\n",
    "        predicted_label = get_max_class(k_lables)\n",
    "        # Add the predicted label to the list of predictions for the test set\n",
    "        predicted_labels.append(copy.deepcopy(predicted_label))\n",
    "    # Return the list of predicted labels for the test set\n",
    "    return predicted_labels"
   ]
  },
  {
   "cell_type": "markdown",
   "metadata": {},
   "source": [
    "### Perform Prediction and Show Accuracy"
   ]
  },
  {
   "cell_type": "code",
   "execution_count": 17,
   "metadata": {},
   "outputs": [
    {
     "name": "stdout",
     "output_type": "stream",
     "text": [
      "Calculated Accuracy:  92.85714285714286\n"
     ]
    }
   ],
   "source": [
    "# Running on k = 3\n",
    "preds = KNN(x_train,x_test,y_train, 3)\n",
    "calculate_accuracy(preds, y_test)"
   ]
  },
  {
   "cell_type": "markdown",
   "metadata": {},
   "source": [
    "<hr>"
   ]
  },
  {
   "cell_type": "markdown",
   "metadata": {},
   "source": [
    "### Test Cases (If Required in Logic Building)"
   ]
  },
  {
   "cell_type": "code",
   "execution_count": 14,
   "metadata": {
    "scrolled": true
   },
   "outputs": [
    {
     "name": "stdout",
     "output_type": "stream",
     "text": [
      "5.196152422706632\n",
      "['A', 'B', 'A', 'A', 'B']\n",
      "banana\n",
      "[(0.1, 'class1'), (0.2, 'class1'), (0.3, 'class1')]\n",
      "Calculated Accuracy:  100.0\n"
     ]
    }
   ],
   "source": [
    "# Testing euclidean_distance function\n",
    "point1 = [1, 2, 3]\n",
    "point2 = [4, 5, 6]\n",
    "distance = euclidean_distance(point1, point2)\n",
    "print(distance)\n",
    "\n",
    "# Testing get_classes_only function\n",
    "k_nearest = [(np.array([1, 2]), 'A'),(np.array([3, 4]), 'B'),(np.array([5, 6]), 'A'),(np.array([7, 8]), 'A'),(np.array([9, 10]), 'B')]\n",
    "classes = get_classes_only(k_nearest)\n",
    "print(classes)\n",
    "\n",
    "# Testing get_max_class function\n",
    "classes = ['apple', 'banana', 'banana', 'orange', 'apple', 'banana', 'banana']\n",
    "max_class = get_max_class(classes)\n",
    "print(max_class)\n",
    "\n",
    "# Testing get_k_nearest function\n",
    "distances = [(0.3, 'class1'), (0.5, 'class2'), (0.2, 'class1'), (0.4, 'class2'), (0.1, 'class1')]\n",
    "k_nearest = get_k_nearest(distances, 3)\n",
    "print(k_nearest)\n",
    "\n",
    "# Testing calculate_accuracy function\n",
    "prediction = [1, 1, 1, 0, 0, 1, 1, 0]\n",
    "target = [1, 1, 1, 0, 0, 1, 1, 0]\n",
    "calculate_accuracy(prediction, target)\n"
   ]
  }
 ],
 "metadata": {
  "kernelspec": {
   "display_name": "Python 3 (ipykernel)",
   "language": "python",
   "name": "python3"
  },
  "language_info": {
   "codemirror_mode": {
    "name": "ipython",
    "version": 3
   },
   "file_extension": ".py",
   "mimetype": "text/x-python",
   "name": "python",
   "nbconvert_exporter": "python",
   "pygments_lexer": "ipython3",
   "version": "3.9.16"
  }
 },
 "nbformat": 4,
 "nbformat_minor": 1
}
