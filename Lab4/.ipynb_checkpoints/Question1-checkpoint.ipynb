{
 "cells": [
  {
   "cell_type": "markdown",
   "id": "1750f82d",
   "metadata": {},
   "source": [
    "Explanation:\n",
    "\n",
    "- `defaultdict` is used to define a graph as a dictionary where each node is a key and its value is a list of its neighbors.\n",
    "- The bfs function takes a graph and a start node as arguments.\n",
    "- The queue list is used to store the nodes that need to be processed. The start node is added to the queue to start the BFS.\n",
    "- The visited set is used to store the nodes that have been processed.\n",
    "- The while loop processes each node in the queue until the queue is empty.\n",
    "- Inside the loop, the node is popped from the front of the queue and processed. If the node has not been processed yet, it is printed, added to the visited set, and its neighbors are added to the queue.\n",
    "- Finally, the bfs function is called with the graph and the start node as arguments."
   ]
  },
  {
   "cell_type": "code",
   "execution_count": 1,
   "id": "5842d2d1",
   "metadata": {},
   "outputs": [],
   "source": [
    "from collections import defaultdict\n",
    "graph = defaultdict(list)"
   ]
  },
  {
   "cell_type": "code",
   "execution_count": 2,
   "id": "524c97d0",
   "metadata": {},
   "outputs": [],
   "source": [
    "# Define a graph using a dictionary where each node is a key and its value is a list of its neighbors\n",
    "graph['A'] = ['B', 'C']\n",
    "graph['B'] = ['A', 'D', 'E']\n",
    "graph['C'] = ['A', 'F']\n",
    "graph['D'] = ['B']\n",
    "graph['E'] = ['B']\n",
    "graph['F'] = ['E']"
   ]
  },
  {
   "cell_type": "code",
   "execution_count": 3,
   "id": "f4a96515",
   "metadata": {},
   "outputs": [],
   "source": [
    "# Define a function to perform BFS\n",
    "def bfs(graph, start_node):\n",
    "    \n",
    "    # Create a queue to store the nodes to be processed\n",
    "    queue = [start_node]\n",
    "    \n",
    "    # Create a set to store the nodes that have been processed\n",
    "    visited = set()\n",
    "    \n",
    "    # Process each node in the queue\n",
    "    while queue:\n",
    "        node = queue.pop(0)\n",
    "        \n",
    "        # If the node has not been processed, process it and add its neighbors to the queue\n",
    "        if node not in visited:\n",
    "            \n",
    "            print(node, end=' ') # You can replace this with any custom processing for the node\n",
    "            visited.add(node)\n",
    "            \n",
    "            queue.extend(graph[node]) # Add the neighbors of the current node to the end of the queue"
   ]
  },
  {
   "cell_type": "code",
   "execution_count": 4,
   "id": "2341e87f",
   "metadata": {},
   "outputs": [
    {
     "name": "stdout",
     "output_type": "stream",
     "text": [
      "A B C D E F "
     ]
    }
   ],
   "source": [
    "# Call the bfs function with the graph and the start node as arguments\n",
    "bfs(graph, 'A')"
   ]
  },
  {
   "cell_type": "code",
   "execution_count": 5,
   "id": "7905aa29",
   "metadata": {},
   "outputs": [],
   "source": [
    "# Define a function to perform DFS\n",
    "def dfs(graph, node, visited):\n",
    "    \n",
    "    # If the node has not been visited, visit it and continue the DFS on its neighbors\n",
    "    if node not in visited:\n",
    "        \n",
    "        print(node, end=' ') # You can replace this with any custom processing for the node\n",
    "        visited.add(node)\n",
    "        \n",
    "        for neighbor in graph[node]:\n",
    "            dfs(graph, neighbor, visited) # Recursively call the dfs function on each unvisited neighbor of the current node"
   ]
  },
  {
   "cell_type": "code",
   "execution_count": 6,
   "id": "df078f04",
   "metadata": {},
   "outputs": [
    {
     "name": "stdout",
     "output_type": "stream",
     "text": [
      "A B D E C F "
     ]
    }
   ],
   "source": [
    "# Create a set to store the nodes that have been visited\n",
    "visited = set()\n",
    "\n",
    "# Call the dfs function with the graph, the start node, and the visited set as arguments\n",
    "dfs(graph, 'A', visited)"
   ]
  },
  {
   "cell_type": "markdown",
   "id": "30df0a8d",
   "metadata": {},
   "source": [
    "<hr>"
   ]
  }
 ],
 "metadata": {
  "kernelspec": {
   "display_name": "Python 3 (ipykernel)",
   "language": "python",
   "name": "python3"
  },
  "language_info": {
   "codemirror_mode": {
    "name": "ipython",
    "version": 3
   },
   "file_extension": ".py",
   "mimetype": "text/x-python",
   "name": "python",
   "nbconvert_exporter": "python",
   "pygments_lexer": "ipython3",
   "version": "3.9.16"
  }
 },
 "nbformat": 4,
 "nbformat_minor": 5
}
