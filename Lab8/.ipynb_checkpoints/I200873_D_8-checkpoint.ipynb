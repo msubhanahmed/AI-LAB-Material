{
 "cells": [
  {
   "cell_type": "markdown",
   "metadata": {},
   "source": [
    "# Tic-Tac-Toe: Using Minimax and Alpha-Beta Pruning"
   ]
  },
  {
   "cell_type": "markdown",
   "metadata": {},
   "source": [
    "### Necessary Imports"
   ]
  },
  {
   "cell_type": "code",
   "execution_count": 1,
   "metadata": {},
   "outputs": [],
   "source": [
    "import copy\n",
    "import math\n",
    "import random"
   ]
  },
  {
   "cell_type": "markdown",
   "metadata": {},
   "source": [
    "### Base Variables"
   ]
  },
  {
   "cell_type": "code",
   "execution_count": 2,
   "metadata": {},
   "outputs": [],
   "source": [
    "X = \"X\"\n",
    "O = \"O\"\n",
    "EMPTY = None"
   ]
  },
  {
   "cell_type": "markdown",
   "metadata": {},
   "source": [
    "### Some Fundamental Functionlity"
   ]
  },
  {
   "cell_type": "code",
   "execution_count": 3,
   "metadata": {},
   "outputs": [],
   "source": [
    "# Displays the board in 2D\n",
    "def display(board):\n",
    "    \"\"\"Display the board.\"\"\"\n",
    "    print(\"-------------\")\n",
    "    for row in board:\n",
    "        print(\"|\", end=\"\")\n",
    "        for cell in row:\n",
    "            if cell is None:\n",
    "                print(\" - \", end=\"|\")\n",
    "            else:\n",
    "                print('',cell,'', end=\"|\")\n",
    "        print()\n",
    "        print(\"-------------\")"
   ]
  },
  {
   "cell_type": "code",
   "execution_count": 4,
   "metadata": {},
   "outputs": [],
   "source": [
    "# Returns starting state of the board.\n",
    "def initial_state():\n",
    "    return [[EMPTY, EMPTY, EMPTY],[EMPTY, EMPTY, EMPTY],[EMPTY, EMPTY, EMPTY]]"
   ]
  },
  {
   "cell_type": "code",
   "execution_count": 5,
   "metadata": {},
   "outputs": [],
   "source": [
    "# Returns player 'X' or 'O' who has the next turn on a board.\n",
    "def player(board):\n",
    "    count = sum([1 for row in board for cell in row if cell])\n",
    "    return 'O' if count % 2 else 'X'"
   ]
  },
  {
   "cell_type": "code",
   "execution_count": 6,
   "metadata": {},
   "outputs": [],
   "source": [
    "# Returns set of all possible actions (i, j) available on the board.\n",
    "def actions(board):\n",
    "    res = set()\n",
    "    for i, r in enumerate(board):\n",
    "        res.update((i, j) for j, c in enumerate(r) if c == EMPTY)\n",
    "    return res"
   ]
  },
  {
   "cell_type": "code",
   "execution_count": 7,
   "metadata": {},
   "outputs": [],
   "source": [
    "# Returns the board that results from making move (i, j) on the board.\n",
    "def result(board, action):\n",
    "    curr_player = player(board)\n",
    "    new_board = [row[:] for row in board]\n",
    "    new_board[action[0]][action[1]] = curr_player\n",
    "    return new_board"
   ]
  },
  {
   "cell_type": "code",
   "execution_count": 8,
   "metadata": {},
   "outputs": [],
   "source": [
    "# Returns the winner of the game, if a player is present at three consecutive horizontal boxes.\n",
    "def get_horizontal_winner(board):\n",
    "    for row in board:\n",
    "        if all(cell == row[0] and cell is not None for cell in row):\n",
    "            return row[0]\n",
    "    return None"
   ]
  },
  {
   "cell_type": "code",
   "execution_count": 9,
   "metadata": {},
   "outputs": [],
   "source": [
    "# Returns the winner of the game, if a player is present at three consecutive vertical boxes.\n",
    "def get_vertical_winner(board):\n",
    "    for col in range(len(board[0])):\n",
    "        if all(board[row][col] == board[0][col] for row in range(len(board))):\n",
    "            return board[0][col]\n",
    "    return None"
   ]
  },
  {
   "cell_type": "code",
   "execution_count": 10,
   "metadata": {},
   "outputs": [],
   "source": [
    "# Returns the winner of the game, if a player is present at three consecutive diagonal boxes.\n",
    "def get_diagonal_winner(board):\n",
    "    # Check main diagonals\n",
    "    if all(board[i][i] == board[0][0] for i in range(len(board))):\n",
    "        return board[0][0]\n",
    "    # Check flipped diagonals\n",
    "    if all(board[i][len(board)-1-i] == board[0][len(board)-1] for i in range(len(board))):\n",
    "        return board[0][len(board)-1]\n",
    "    return None"
   ]
  },
  {
   "cell_type": "code",
   "execution_count": 11,
   "metadata": {},
   "outputs": [],
   "source": [
    "# Returns the winner of the game, if any.\n",
    "def winner(board):\n",
    "    return get_horizontal_winner(board) or get_vertical_winner(board) or get_diagonal_winner(board) or None"
   ]
  },
  {
   "cell_type": "code",
   "execution_count": 12,
   "metadata": {},
   "outputs": [],
   "source": [
    "# Returns True if game is over, False otherwise.\n",
    "def terminal(board):\n",
    "    if winner(board):\n",
    "        return True\n",
    "    if any(EMPTY in row for row in board):\n",
    "        return False\n",
    "    return True"
   ]
  },
  {
   "cell_type": "code",
   "execution_count": 13,
   "metadata": {},
   "outputs": [],
   "source": [
    "# Returns 1 if 'X' has won, -1 if 'O' has won, 0 otherwise.\n",
    "def utility(board):\n",
    "    winner_val = winner(board)\n",
    "    if winner_val == X:\n",
    "        return 1\n",
    "    elif winner_val == O:\n",
    "        return -1\n",
    "    return 0"
   ]
  },
  {
   "cell_type": "markdown",
   "metadata": {},
   "source": [
    "# MinMax Algorithm"
   ]
  },
  {
   "cell_type": "markdown",
   "metadata": {},
   "source": [
    "- The `max_val` function takes a `board` as input and returns the maximum possible value that the current player can achieve from the given board state. It recursively evaluates all the possible moves that can be made by the current player and returns the maximum value from the minimum values returned by the opponent.\n",
    "\n",
    "- If the given `board` is already in a terminal state (i.e., the game is over), the `utility` function is called to determine the score of the terminal state.\n",
    "\n",
    "- The function then initializes a variable `v` to negative infinity, which will be used to store the maximum value found so far. It then iterates over all the possible actions that can be taken from the current `board` state, and for each action, it calls the min_val function on the resulting board state. The `min_val` function will return the minimum value that the opponent can achieve from the resulting state. The `max` function is then used to update the `   ` variable to the maximum value between the current `v` and the minimum value returned by `min_val`. Finally, the function returns the maximum value found."
   ]
  },
  {
   "cell_type": "code",
   "execution_count": 14,
   "metadata": {},
   "outputs": [],
   "source": [
    "def max_val(board):\n",
    "    if terminal(board):\n",
    "        return utility(board)\n",
    "    max_sol = float('-inf')\n",
    "    for act in actions(board):\n",
    "        max_sol = max(max_sol , min_val(result(board,act)))\n",
    "    return max_sol"
   ]
  },
  {
   "cell_type": "markdown",
   "metadata": {},
   "source": [
    "- The `min_val` function is similar to the `max_val` function, but instead of returning the maximum value that the current player can achieve, it returns the minimum value that the opponent can achieve. It does this by recursively evaluating all the possible moves that the opponent can make and returns the minimum value from the maximum values returned by the current player.\n",
    "\n",
    "- If the given `board` is already in a terminal state (i.e., the game is over), the `utility` function is called to determine the score of the terminal state.\n",
    "\n",
    "- The function initializes a variable `v` to positive infinity, which will be used to store the minimum value found so far. It then iterates over all the possible actions that can be taken from the current `board` state, and for each action, it calls the `max_val` function on the resulting board state. The `max_val` function will return the maximum value that the current player can achieve from the resulting state. The `min` function is then used to update the `v` variable to the minimum value between the current `v` and the maximum value returned by `max_val`. Finally, the function returns the minimum value found.\n"
   ]
  },
  {
   "cell_type": "code",
   "execution_count": 15,
   "metadata": {},
   "outputs": [],
   "source": [
    "def min_val(board):\n",
    "    if terminal(board):\n",
    "        return utility(board)\n",
    "    max_sol = float('inf')\n",
    "    for act in actions(board):\n",
    "        max_sol = min(max_sol , max_val(result(board,act)))\n",
    "    return max_sol"
   ]
  },
  {
   "cell_type": "markdown",
   "metadata": {},
   "source": [
    "- An implementation of the minimax algorithm for the game of Tic Tac Toe. The algorithm is used to determine the best move for the current player in the game. The function `minimax(board)` takes a `board` as input and returns the best move for the current player.\n",
    "\n",
    "- The function first checks if the `board` is the initial state of the game. If it is, then it returns a random move. Otherwise, it determines the current player and initializes the `action_to_return` variable to `None`.\n",
    "\n",
    "- If the current player is `X`, then the function initializes the `val` variable to negative infinity and iterates over all the possible actions that can be taken on the `board`. For each action, it calls the `min_val` function on the result of applying the action to the `board`. If the resulting value is greater than `val`, then `val` is updated to the resulting value and the `action_to_return` variable is set to the current action.\n",
    "\n",
    "- If the current player is `O`, then the function initializes the `val` variable to positive infinity and iterates over all the possible actions that can be taken on the `board`. For each action, it calls the `max_val` function on the result of applying the action to the `board`. If the resulting value is less than `val`, then `val` is updated to the resulting value and the `action_to_return` variable is set to the current action.\n",
    "\n",
    "- Finally, the function returns the `action_to_return` variable, which is the best move for the current player."
   ]
  },
  {
   "cell_type": "code",
   "execution_count": 16,
   "metadata": {},
   "outputs": [],
   "source": [
    "def minimax(board):\n",
    "    # Check if the board is the initial state\n",
    "    if board == [[EMPTY, EMPTY, EMPTY],[EMPTY, EMPTY, EMPTY],[EMPTY, EMPTY, EMPTY]]:\n",
    "        # Return a random move\n",
    "        return random.sample(actions(board), 1)[0]\n",
    "    # Determine the current player\n",
    "    current_player = player(board)\n",
    "    # Initialize the action_to_return variable to None\n",
    "    action_to_return = None\n",
    "    # If the current player is X\n",
    "    if (current_player == 'X'):\n",
    "        # Initialize the val variable to negative infinity\n",
    "        val = float('-inf')\n",
    "        # Iterate over all the possible actions that can be taken on the board\n",
    "        for act in actions(board):\n",
    "            # Call the min_val function on the result of applying the action to the board\n",
    "            v1 = min_val(result(board,act))\n",
    "            # If the resulting value is greater than val, update val and action_to_return\n",
    "            if(v1 > val):\n",
    "                val = v1\n",
    "                action_to_return = act\n",
    "    # If the current player is O\n",
    "    elif (current_player == 'O'):\n",
    "        # Initialize the val variable to positive infinity\n",
    "        val = float('inf')\n",
    "        # Iterate over all the possible actions that can be taken on the board\n",
    "        for act in actions(board):\n",
    "        # Call the max_val function on the result of applying the action to the board\n",
    "            v1 = max_val(result(board,act))\n",
    "        # If the resulting value is less than val, update val and action_to_return\n",
    "            if(v1<val):\n",
    "                val = v1\n",
    "                action_to_return = act\n",
    "    # Return the best move for the current player\n",
    "    return action_to_return"
   ]
  },
  {
   "cell_type": "markdown",
   "metadata": {},
   "source": [
    "# Running Script"
   ]
  },
  {
   "cell_type": "markdown",
   "metadata": {},
   "source": [
    "- Code implementation of the game of Tic Tac Toe. The code starts by initializing the `user` variable to `None` and the `board` variable to the initial state of the game. It then sets the `ai_turn` variable to `False` and prompts the user to choose a player. \n",
    "\n",
    "- The code then enters a loop that continues until the game is over. In each iteration of the loop, it checks if the game is over by calling the `terminal` function on the `board`. If the game is over, it prints the result of the game and breaks out of the loop. Otherwise, it determines the current player by calling the `player` function on the `board` and prints the current player and the user.\n",
    "\n",
    "- If the game is not over and the current player is not the user, then the code sets the `ai_turn` variable to `True` and selects a move for the AI player by calling the `minimax` function on the `board`. It then applies the selected move to the `board` by calling the `result` function on the `board` and the selected move. Finally, it sets the `ai_turn` variable to `False` and prints the updated `board`.\n",
    "\n",
    "- If the game is not over and the current player is the user, then the code sets the `ai_turn` variable to `True` and prompts the user to enter the position to move. It then applies the selected move to the `board` by calling the `result` function on the `board` and the selected move. Finally, it prints the updated `board`."
   ]
  },
  {
   "cell_type": "code",
   "execution_count": 17,
   "metadata": {
    "scrolled": false
   },
   "outputs": [
    {
     "name": "stdout",
     "output_type": "stream",
     "text": [
      "You are X\n",
      "Choose from Following Moves\n",
      "{(0, 1), (1, 2), (2, 1), (0, 0), (1, 1), (2, 0), (0, 2), (2, 2), (1, 0)}\n",
      "Enter Board Row:  0\n",
      "Enter Board Column:  0\n",
      "You Choosed:  (0, 0)\n",
      "----------------------------------------------------------------------------------------------------\n",
      "-------------\n",
      "| X | - | - |\n",
      "-------------\n",
      "| - | - | - |\n",
      "-------------\n",
      "| - | - | - |\n",
      "-------------\n",
      "AI Turn! Move Chosen: (1, 1)\n",
      "----------------------------------------------------------------------------------------------------\n",
      "-------------\n",
      "| X | - | - |\n",
      "-------------\n",
      "| - | O | - |\n",
      "-------------\n",
      "| - | - | - |\n",
      "-------------\n",
      "Choose from Following Moves\n",
      "{(0, 1), (1, 2), (2, 1), (2, 0), (0, 2), (2, 2), (1, 0)}\n",
      "Enter Board Row:  0\n",
      "Enter Board Column:  1\n",
      "You Choosed:  (0, 1)\n",
      "----------------------------------------------------------------------------------------------------\n",
      "-------------\n",
      "| X | X | - |\n",
      "-------------\n",
      "| - | O | - |\n",
      "-------------\n",
      "| - | - | - |\n",
      "-------------\n",
      "AI Turn! Move Chosen: (0, 2)\n",
      "----------------------------------------------------------------------------------------------------\n",
      "-------------\n",
      "| X | X | O |\n",
      "-------------\n",
      "| - | O | - |\n",
      "-------------\n",
      "| - | - | - |\n",
      "-------------\n",
      "Choose from Following Moves\n",
      "{(1, 2), (2, 1), (2, 0), (2, 2), (1, 0)}\n",
      "Enter Board Row:  0\n",
      "Enter Board Column:  2\n",
      "You Choosed:  (0, 2)\n",
      "Enter Board Row:  1\n",
      "Enter Board Column:  2\n",
      "You Choosed:  (1, 2)\n",
      "----------------------------------------------------------------------------------------------------\n",
      "-------------\n",
      "| X | X | O |\n",
      "-------------\n",
      "| - | O | X |\n",
      "-------------\n",
      "| - | - | - |\n",
      "-------------\n",
      "AI Turn! Move Chosen: (2, 0)\n",
      "----------------------------------------------------------------------------------------------------\n",
      "-------------\n",
      "| X | X | O |\n",
      "-------------\n",
      "| - | O | X |\n",
      "-------------\n",
      "| O | - | - |\n",
      "-------------\n",
      "You Lost!\n"
     ]
    }
   ],
   "source": [
    "if __name__ == \"__main__\":\n",
    "    board = initial_state()\n",
    "    ai_turn = False\n",
    "    plyer = 'X'\n",
    "    print(\"You are X\")\n",
    "    while(not terminal(board)):\n",
    "        if ai_turn == True:\n",
    "            aimove = minimax(board)\n",
    "            board = result(board,aimove)\n",
    "            ai_turn = False\n",
    "            print(\"AI Turn! Move Chosen: \" + str(aimove))\n",
    "        else:\n",
    "            ai_turn = True\n",
    "            valid_move = 0\n",
    "            print(\"Choose from Following Moves\")\n",
    "            print(actions(board))\n",
    "            while valid_move == 0:\n",
    "                x = input(\"Enter Board Row:  \")\n",
    "                y = input(\"Enter Board Column:  \")\n",
    "                uact = (int(x),int(y))\n",
    "                print(\"You Choosed: \" ,end=' ')\n",
    "                print(uact)\n",
    "                if(uact in actions(board)):\n",
    "                    board = result(board,uact)\n",
    "                    valid_move = 1\n",
    "                    break\n",
    "        print('-'*100)\n",
    "        display(board)\n",
    "        \n",
    "    winner = utility(board)\n",
    "    if winner == 0:\n",
    "        print(\"Game Draw!\")\n",
    "    \n",
    "    elif plyer == 'X':\n",
    "        if winner == 1:\n",
    "            print(\"You Won!\")\n",
    "        elif winner == -1:\n",
    "            print(\"You Lost!\")\n",
    "    elif plyer == 'O':\n",
    "        if winner == -1:\n",
    "            print(\"You Won!\")\n",
    "        elif winner== 1:\n",
    "            print(\"You Lost!\")\n"
   ]
  }
 ],
 "metadata": {
  "kernelspec": {
   "display_name": "Python 3 (ipykernel)",
   "language": "python",
   "name": "python3"
  },
  "language_info": {
   "codemirror_mode": {
    "name": "ipython",
    "version": 3
   },
   "file_extension": ".py",
   "mimetype": "text/x-python",
   "name": "python",
   "nbconvert_exporter": "python",
   "pygments_lexer": "ipython3",
   "version": "3.9.16"
  }
 },
 "nbformat": 4,
 "nbformat_minor": 4
}
