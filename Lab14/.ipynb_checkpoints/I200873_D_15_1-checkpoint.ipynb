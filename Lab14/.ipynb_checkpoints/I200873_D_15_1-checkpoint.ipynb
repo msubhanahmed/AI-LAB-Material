{
 "cells": [
  {
   "cell_type": "markdown",
   "id": "7790fb02",
   "metadata": {
    "id": "7790fb02"
   },
   "source": [
    "# Introduction to PyTorch"
   ]
  },
  {
   "cell_type": "code",
   "execution_count": null,
   "id": "fcb59d10",
   "metadata": {
    "id": "fcb59d10"
   },
   "outputs": [],
   "source": [
    "# Importing PyTorch\n",
    "import torch\n",
    "x = torch.empty(1)\n",
    "print(x)\n",
    "x = torch.empty(2,2,3)\n",
    "print(x)"
   ]
  },
  {
   "cell_type": "code",
   "execution_count": null,
   "id": "2d969b04",
   "metadata": {
    "colab": {
     "base_uri": "https://localhost:8080/"
    },
    "id": "2d969b04",
    "outputId": "cabb29b3-d263-40c0-e08b-a174043d9047"
   },
   "outputs": [],
   "source": [
    "x = torch.rand(2)\n",
    "print(x)\n",
    "\n",
    "x = torch.rand(3,3)\n",
    "print(x)"
   ]
  },
  {
   "cell_type": "code",
   "execution_count": null,
   "id": "ef5816b9",
   "metadata": {
    "colab": {
     "base_uri": "https://localhost:8080/"
    },
    "id": "ef5816b9",
    "outputId": "7f76ef8d-6e9d-4798-9a0c-0abf01b03b9b"
   },
   "outputs": [],
   "source": [
    "x = torch.zeros(3, 3)\n",
    "print(x)\n",
    "x = torch.ones(3, 3)\n",
    "print(x)\n",
    "\n",
    "x = torch.ones(2,2, dtype=torch.float16)\n",
    "print(x)"
   ]
  },
  {
   "cell_type": "code",
   "execution_count": null,
   "id": "c4896adf",
   "metadata": {
    "id": "c4896adf",
    "outputId": "7594cc52-6b4f-4664-d4b4-1b8bdd589fbe"
   },
   "outputs": [],
   "source": [
    "print(x.dtype)\n",
    "print(x.size())"
   ]
  },
  {
   "cell_type": "code",
   "execution_count": null,
   "id": "db7843d8",
   "metadata": {
    "id": "db7843d8",
    "outputId": "65b18d91-27a0-4ad7-8e4d-2d11620191d5"
   },
   "outputs": [],
   "source": [
    "x = torch.tensor([21.52, 10.33, 41,11])\n",
    "print(x)"
   ]
  },
  {
   "cell_type": "code",
   "execution_count": null,
   "id": "90bd71d1",
   "metadata": {
    "id": "90bd71d1",
    "outputId": "9b12e729-3bcd-4978-c49d-b3e1214accaa"
   },
   "outputs": [],
   "source": [
    "z = x+y\n",
    "print(\"Resultant Tensor\\n\",z)"
   ]
  },
  {
   "cell_type": "code",
   "execution_count": null,
   "id": "0787ca63",
   "metadata": {
    "id": "0787ca63",
    "outputId": "e011a4b2-206d-4a44-9c46-84f1a631a3db"
   },
   "outputs": [],
   "source": [
    "# Also element wise addition\n",
    "z = torch.add(x, y)\n",
    "print(\"Resultant Tensor\\n\",z)"
   ]
  },
  {
   "cell_type": "code",
   "execution_count": null,
   "id": "2bb3afcd",
   "metadata": {
    "id": "2bb3afcd",
    "outputId": "f648ad99-36be-4213-cf68-3c1f2f7878b6"
   },
   "outputs": [],
   "source": [
    "# Also element wise addition but storing in y\n",
    "y.add_(x)\n",
    "print(\"Resultant Tensor\\n\",y)"
   ]
  },
  {
   "cell_type": "code",
   "execution_count": null,
   "id": "12bf9e27",
   "metadata": {
    "id": "12bf9e27"
   },
   "outputs": [],
   "source": [
    "# Arithmatic Operation\n",
    "\n",
    "# Addition\n",
    "\n",
    "z = x+y\n",
    "z = torch.add(x, y)\n",
    "y.add_(x)\n",
    "\n",
    "# Subtraction\n",
    "\n",
    "z = x-y\n",
    "z = torch.sub(x, y)\n",
    "y.sub_(x)\n",
    "\n",
    "# Multiplication\n",
    "\n",
    "z = x*y\n",
    "z = torch.mul(x, y)\n",
    "y.mul_(x)\n",
    "\n",
    "# Division\n",
    "\n",
    "z = x/y\n",
    "z = torch.div(x, y)\n",
    "y.div_(x)"
   ]
  },
  {
   "cell_type": "markdown",
   "id": "7472e702",
   "metadata": {
    "id": "7472e702"
   },
   "source": [
    "#### -  Indexing `x[0]`, Slicing `x[:2]` or `x[2:]` and Fancy Indexing `x[0, [0,1,2]]` or `x[[0,1,2], 0]`"
   ]
  },
  {
   "cell_type": "code",
   "execution_count": null,
   "id": "d6874d5b",
   "metadata": {
    "id": "d6874d5b",
    "outputId": "0c0be38a-02b2-4ac5-acf9-da521cd514ae"
   },
   "outputs": [],
   "source": [
    "x = torch.tensor([22,44,55,66,88])\n",
    "print(x)\n",
    "\n",
    "# First element\n",
    "print(\"First element\", x[0], end='\\n\\n')\n",
    "\n",
    "# Last element\n",
    "print(\"Last element\", x[-1], end='\\n\\n')\n",
    "\n",
    "# First two elements\n",
    "print(\"First two elements\", x[:2], end='\\n\\n')\n",
    "\n",
    "# Elements after second item\n",
    "print(\"Elements after second item\", x[2:], end='\\n\\n')\n",
    "\n",
    "# Last two elements\n",
    "print(\"Last two elements\", x[-2:], end='\\n\\n')"
   ]
  },
  {
   "cell_type": "code",
   "execution_count": null,
   "id": "8fe5d1cd",
   "metadata": {
    "id": "8fe5d1cd",
    "outputId": "aaf3294f-59a8-497b-af43-e007c231f89e"
   },
   "outputs": [],
   "source": [
    "x = [\n",
    "    [1,   2,  3,  4,  5],\n",
    "    [6,   7,  8,  9, 10],\n",
    "    [11, 12, 13, 14, 15],\n",
    "    [16, 17, 18, 19, 20],\n",
    "    [21, 22, 23, 24, 25]\n",
    "]\n",
    "x = torch.tensor(x)\n",
    "print(x)"
   ]
  },
  {
   "cell_type": "code",
   "execution_count": null,
   "id": "2433b078",
   "metadata": {
    "id": "2433b078",
    "outputId": "cd3f4f1c-7c00-4878-b76b-9b716383d91c"
   },
   "outputs": [],
   "source": [
    "# First row\n",
    "print(\"First row\", x[0], end='\\n\\n')\n",
    "\n",
    "# Last row\n",
    "print(\"Last row\", x[-1], end='\\n\\n')\n",
    "\n",
    "# First column\n",
    "print(\"First column\", x[:, 0], end='\\n\\n')\n",
    "\n",
    "# Last column\n",
    "print(\"Last column\", x[:, -1], end='\\n\\n')"
   ]
  },
  {
   "cell_type": "code",
   "execution_count": null,
   "id": "6e1861a7",
   "metadata": {
    "id": "6e1861a7",
    "outputId": "b5ec5a63-43fc-4532-8c8c-149d30970379"
   },
   "outputs": [],
   "source": [
    "# First two elements at first row\n",
    "print(\"First two elements at first row\", x[0, [0,1]], end='\\n\\n')\n",
    "\n",
    "# Last two elements at first row\n",
    "print(\"Last two elements at first row\", x[0, [-2,-1]], end='\\n\\n')\n",
    "\n",
    "# First two elements at last row\n",
    "print(\"First two elements at last row\", x[-1, [0,1]], end='\\n\\n')\n",
    "\n",
    "# Last two elements at last row\n",
    "print(\"Last two elements at last row\", x[-1, [-2,-1]], end='\\n\\n')"
   ]
  },
  {
   "cell_type": "code",
   "execution_count": null,
   "id": "09cd9474",
   "metadata": {
    "id": "09cd9474",
    "outputId": "b0fce9fc-e141-4610-971f-f85b6fafd83e"
   },
   "outputs": [],
   "source": [
    "x = [\n",
    "    [1,   2,  3,  4,  5],\n",
    "    [6,   7,  8,  9, 10],\n",
    "    [11, 12, 13, 14, 15],\n",
    "    [16, 17, 18, 19, 20],\n",
    "    [21, 22, 23, 24, 25]\n",
    "]\n",
    "x = torch.tensor(x)\n",
    "print(x)"
   ]
  },
  {
   "cell_type": "code",
   "execution_count": null,
   "id": "62654067",
   "metadata": {
    "id": "62654067",
    "outputId": "c0ede2d2-f610-43b3-d846-25fae041455a"
   },
   "outputs": [],
   "source": [
    "# First two elements at first column\n",
    "print(\"First two elements at first column\", x[[0,1], 0], end='\\n\\n')\n",
    "\n",
    "# Last two elements at first column\n",
    "print(\"Last two elements at first column\", x[[-2,-1], 0], end='\\n\\n')\n",
    "\n",
    "# First two elements at last column\n",
    "print(\"First two elements at last column\", x[[0,1], -1], end='\\n\\n')\n",
    "\n",
    "# Last two elements at last column\n",
    "print(\"Last two elements at last column\", x[[-2,-1], -1], end='\\n\\n')"
   ]
  },
  {
   "cell_type": "code",
   "execution_count": null,
   "id": "3ac18de1",
   "metadata": {
    "id": "3ac18de1",
    "outputId": "5079cf12-fe07-4e95-ca8e-5d1f03a0a4e5"
   },
   "outputs": [],
   "source": [
    "# First two elements in first two rows\n",
    "print(\"First two elements in first two rows\\n\", x[:2,[0,1]], end='\\n\\n')\n",
    "\n",
    "# Last two elements in last two rows\n",
    "print(\"Last two elements in last two rows\\n\", x[[0,1], -2:], end='\\n\\n')\n",
    "\n",
    "# First two elements in first two columns\n",
    "print(\"First two elements in first two columns\\n\", x[:2,:2], end='\\n\\n')\n",
    "\n",
    "# Last two elements in last two columns\n",
    "print(\"Last two elements in last two columns\\n\", x[-2:,-2:], end='\\n\\n')"
   ]
  },
  {
   "cell_type": "markdown",
   "id": "3c4eea76",
   "metadata": {
    "id": "3c4eea76"
   },
   "source": [
    "#### - The `item()` function"
   ]
  },
  {
   "cell_type": "code",
   "execution_count": null,
   "id": "f3ce1045",
   "metadata": {
    "id": "f3ce1045",
    "outputId": "40851fbc-1aaf-42b0-c815-c088fee2447b"
   },
   "outputs": [],
   "source": [
    "# Need to print a python scalar from the tensor\n",
    "print(\"A tensor item: \", x[0,-1])\n",
    "print(\"A scalar item: \", x[0,-1].item())"
   ]
  },
  {
   "cell_type": "markdown",
   "id": "82804928",
   "metadata": {
    "id": "82804928"
   },
   "source": [
    "#### - The `reshape(rows, cols)` of numpy is `view(rows, cols)` in PyTorch"
   ]
  },
  {
   "cell_type": "code",
   "execution_count": null,
   "id": "b9e2d9bc",
   "metadata": {
    "id": "b9e2d9bc",
    "outputId": "204a3ceb-9fe7-4d6b-e80f-ad405b7cbec7"
   },
   "outputs": [],
   "source": [
    "x = torch.tensor([1,2,3,4,5,6])\n",
    "x1 = x.view(2,3)\n",
    "x2 = x.view(3,2)\n",
    "print(\"2D - x1\\n\", x1)\n",
    "print(\"2D - x2\\n\", x2)"
   ]
  },
  {
   "cell_type": "code",
   "execution_count": null,
   "id": "e6b394a6",
   "metadata": {
    "id": "e6b394a6",
    "outputId": "d6dbfe4f-a874-49ca-b356-3fb8c13eaaca"
   },
   "outputs": [],
   "source": [
    "x = torch.tensor([1,2,3,4,5,6,7,8,9,10,11,12])\n",
    "print(\"1D - x\\n\", x, end='\\n\\n')\n",
    "x1 = x.view(4,-1)\n",
    "x2 = x.view(-1,6)\n",
    "print(\"2D - x1\\n\", x1)\n",
    "print(\"2D - x2\\n\", x2)"
   ]
  },
  {
   "cell_type": "code",
   "execution_count": null,
   "id": "27171d6c",
   "metadata": {
    "id": "27171d6c",
    "outputId": "98842a8f-bc06-4990-f471-793c7dcf18d2"
   },
   "outputs": [],
   "source": [
    "x = torch.rand(3,3,2)\n",
    "print(\"3D - x\\n\", x)"
   ]
  },
  {
   "cell_type": "code",
   "execution_count": null,
   "id": "563d7aa8",
   "metadata": {
    "id": "563d7aa8",
    "outputId": "3ab37b90-a093-4657-edb2-082fff74e98a"
   },
   "outputs": [],
   "source": [
    "x1 = x.view(9,-1)\n",
    "x2 = x.view(-1,6)\n",
    "print(\"2D - x1\\n\", x1)\n",
    "print(\"2D - x2\\n\", x2)"
   ]
  },
  {
   "cell_type": "code",
   "execution_count": null,
   "id": "802e0d14",
   "metadata": {
    "id": "802e0d14",
    "outputId": "3bfde842-fd2f-420c-c6d8-6b63d431b6ec"
   },
   "outputs": [],
   "source": [
    "x3 = x.view(-1)\n",
    "print(\"1D - x3\\n\", x3)"
   ]
  },
  {
   "cell_type": "markdown",
   "id": "177e3cbe",
   "metadata": {
    "id": "177e3cbe"
   },
   "source": [
    "#### - Typecasting with `NumPy` and some `cuda` operations"
   ]
  },
  {
   "cell_type": "code",
   "execution_count": null,
   "id": "fa705d3a",
   "metadata": {
    "id": "fa705d3a"
   },
   "outputs": [],
   "source": [
    "import numpy as np"
   ]
  },
  {
   "cell_type": "code",
   "execution_count": null,
   "id": "6e42fac8",
   "metadata": {
    "id": "6e42fac8",
    "outputId": "d0d99b26-ada1-436d-e176-ede13aca3b2e"
   },
   "outputs": [],
   "source": [
    "a = torch.ones(5)\n",
    "print(a,\"\\n\",type(a))\n",
    "b = a.numpy()\n",
    "print(b,\"\\n\",type(b))"
   ]
  },
  {
   "cell_type": "code",
   "execution_count": null,
   "id": "f796a3ef",
   "metadata": {
    "id": "f796a3ef",
    "outputId": "f53bea1c-1977-4e07-85a0-d7bbf9d0ebf4"
   },
   "outputs": [],
   "source": [
    "a.add_(1)\n",
    "print(a)\n",
    "print(b)"
   ]
  },
  {
   "cell_type": "code",
   "execution_count": null,
   "id": "8bb6f67d",
   "metadata": {
    "id": "8bb6f67d",
    "outputId": "f35ce6f0-a0b9-4ebd-9fc0-3a20a8494d33"
   },
   "outputs": [],
   "source": [
    "a = np.ones(5)\n",
    "print(a)\n",
    "\n",
    "b = torch.from_numpy(a)\n",
    "print(b)"
   ]
  },
  {
   "cell_type": "code",
   "execution_count": null,
   "id": "895587dd",
   "metadata": {
    "id": "895587dd",
    "outputId": "54c0eb60-e588-4dee-dcb0-09b8faec8fc6"
   },
   "outputs": [],
   "source": [
    "# Both will be changed again\n",
    "a += 1\n",
    "print(a)\n",
    "print(b)"
   ]
  },
  {
   "cell_type": "code",
   "execution_count": null,
   "id": "559af3f1",
   "metadata": {
    "id": "559af3f1",
    "outputId": "89053e63-bd9e-4873-8d97-b50ed5bd9748",
    "scrolled": true
   },
   "outputs": [],
   "source": [
    "if torch.cuda.is_available():\n",
    "    device = torch.device('cuda')\n",
    "    x = torch.ones(5, device=device)\n",
    "    y = torch.ones(5)\n",
    "    y = y.to(device)\n",
    "    z = x + y\n",
    "    z.to('cpu')\n",
    "else:\n",
    "    print(\"Not available\")"
   ]
  },
  {
   "cell_type": "markdown",
   "id": "961f560f",
   "metadata": {
    "id": "961f560f"
   },
   "source": [
    "#### - For optimizing a variable or a vector or a matrix, we do `requires_grad=True` when creating it - `False` by default"
   ]
  },
  {
   "cell_type": "code",
   "execution_count": null,
   "id": "cc58ce6c",
   "metadata": {
    "id": "cc58ce6c",
    "outputId": "4fd58a78-f3f8-4376-afde-7a895ba96380"
   },
   "outputs": [],
   "source": [
    "x = torch.ones(5, requires_grad=True)\n",
    "print(x)"
   ]
  },
  {
   "cell_type": "code",
   "execution_count": null,
   "id": "db6281df",
   "metadata": {
    "id": "db6281df"
   },
   "outputs": [],
   "source": [
    "import torch"
   ]
  },
  {
   "cell_type": "markdown",
   "id": "bb4d0349",
   "metadata": {
    "id": "bb4d0349"
   },
   "source": [
    "#### - The `rand(3)` means only positive randoms while the `randn(3)` includes negative randoms too"
   ]
  },
  {
   "cell_type": "code",
   "execution_count": null,
   "id": "9b27d082",
   "metadata": {
    "id": "9b27d082",
    "outputId": "a453933e-5423-403d-cf55-05c87a3cbdd7"
   },
   "outputs": [
    {
     "name": "stdout",
     "output_type": "stream",
     "text": [
      "tensor([-0.3389,  0.7706,  1.0508], requires_grad=True)\n"
     ]
    }
   ],
   "source": [
    "x = torch.randn(3, requires_grad=True)\n",
    "print(x)"
   ]
  },
  {
   "cell_type": "code",
   "execution_count": null,
   "id": "e2b10777",
   "metadata": {
    "id": "e2b10777",
    "outputId": "d041e27e-a458-4b4c-9295-c73ef5b66c3f"
   },
   "outputs": [
    {
     "name": "stdout",
     "output_type": "stream",
     "text": [
      "tensor([1.6611, 2.7706, 3.0508], grad_fn=<AddBackward0>)\n"
     ]
    }
   ],
   "source": [
    "# For addition <AddBackward>\n",
    "z1 = x + 2\n",
    "print(z1)"
   ]
  },
  {
   "cell_type": "markdown",
   "id": "d4e2112f",
   "metadata": {
    "id": "d4e2112f"
   },
   "source": [
    "#### - A graph is maintained when `requires_grad=True` just like the following"
   ]
  },
  {
   "cell_type": "markdown",
   "id": "65a4bc1f",
   "metadata": {
    "id": "65a4bc1f"
   },
   "source": [
    "<img src=\"images/computational_graph.png\" height=\"30%\" width=\"30%\">\n",
    "<ul>"
   ]
  },
  {
   "cell_type": "code",
   "execution_count": null,
   "id": "8f197b04",
   "metadata": {
    "id": "8f197b04",
    "outputId": "c10e2e14-8be6-404e-b36c-464028bbbd6d"
   },
   "outputs": [
    {
     "name": "stdout",
     "output_type": "stream",
     "text": [
      "tensor([0.2297, 1.1875, 2.2085], grad_fn=<MulBackward0>)\n"
     ]
    }
   ],
   "source": [
    "# For multiplication <MulBackward>\n",
    "z2 = x * x * 2\n",
    "print(z2)"
   ]
  },
  {
   "cell_type": "code",
   "execution_count": null,
   "id": "55e7213a",
   "metadata": {
    "id": "55e7213a",
    "outputId": "241d458e-b0eb-4e95-ae2b-c81029a8a349"
   },
   "outputs": [
    {
     "name": "stdout",
     "output_type": "stream",
     "text": [
      "tensor(1.2086, grad_fn=<MeanBackward0>)\n"
     ]
    }
   ],
   "source": [
    "# For mean <MeanBackward>\n",
    "z3 = z2.mean()\n",
    "print(z3)"
   ]
  },
  {
   "cell_type": "code",
   "execution_count": null,
   "id": "c6b24885",
   "metadata": {
    "id": "c6b24885",
    "outputId": "f8e1166d-21ab-474e-b916-7a8290d53ba2"
   },
   "outputs": [
    {
     "name": "stdout",
     "output_type": "stream",
     "text": [
      "tensor([-0.4518,  1.0274,  1.4011])\n"
     ]
    }
   ],
   "source": [
    "# To calculate gradient\n",
    "z3.backward() #dz1/dx\n",
    "print(x.grad)"
   ]
  },
  {
   "cell_type": "markdown",
   "id": "12832b7b",
   "metadata": {
    "id": "12832b7b"
   },
   "source": [
    "#### - A short gradient calculation\n",
    "<ul>\n",
    "    <li>Forward Pass (Black)</li>\n",
    "    <li>Backward Pass (Red)</li>\n",
    "</ul>"
   ]
  },
  {
   "cell_type": "markdown",
   "id": "ef1d67f7",
   "metadata": {
    "id": "ef1d67f7"
   },
   "source": [
    "<img src=\"images/simple_neuralnet.png\">"
   ]
  },
  {
   "cell_type": "code",
   "execution_count": null,
   "id": "ead0b63b",
   "metadata": {
    "id": "ead0b63b"
   },
   "outputs": [],
   "source": [
    "# Define feature, label and weight\n",
    "x = torch.tensor(2.0)\n",
    "w = torch.tensor(1.0, requires_grad=True)\n",
    "y = torch.tensor(4.0)"
   ]
  },
  {
   "cell_type": "code",
   "execution_count": null,
   "id": "d562f248",
   "metadata": {
    "id": "d562f248",
    "outputId": "584aafd2-82b0-4296-a0a5-2b176962d733"
   },
   "outputs": [
    {
     "name": "stdout",
     "output_type": "stream",
     "text": [
      "y_hat:  2.0\n",
      "loss:  4.0\n"
     ]
    }
   ],
   "source": [
    "# The forward pass and compute loss\n",
    "y_hat = w * x\n",
    "loss = (y_hat - y)**2\n",
    "print(\"y_hat: \", y_hat.item())\n",
    "print(\"loss: \", loss.item())"
   ]
  },
  {
   "cell_type": "code",
   "execution_count": null,
   "id": "b91c6146",
   "metadata": {
    "id": "b91c6146"
   },
   "outputs": [],
   "source": [
    "# The backward pass and gradient computation (main with local)\n",
    "loss.backward()"
   ]
  },
  {
   "cell_type": "code",
   "execution_count": null,
   "id": "56599e90",
   "metadata": {
    "id": "56599e90",
    "outputId": "db9df6b1-b27f-4e77-9e0c-8b4d2c4b946b"
   },
   "outputs": [
    {
     "name": "stdout",
     "output_type": "stream",
     "text": [
      "dL/dw:  -8.0\n"
     ]
    }
   ],
   "source": [
    "# The final weight derivative after gradient calculation\n",
    "print(\"dL/dw: \",w.grad.item())"
   ]
  },
  {
   "cell_type": "code",
   "execution_count": null,
   "id": "eebfb3d6",
   "metadata": {
    "id": "eebfb3d6",
    "outputId": "7d65f9b5-ca2f-455a-d8ae-355b9ea0fd0b"
   },
   "outputs": [
    {
     "name": "stdout",
     "output_type": "stream",
     "text": [
      "New weight 1.0800000429153442\n"
     ]
    }
   ],
   "source": [
    "# Update the weight with the learning rate\n",
    "w = w - 0.01 * w.grad\n",
    "print(\"New weight\" ,w.item())"
   ]
  },
  {
   "cell_type": "code",
   "execution_count": null,
   "id": "a143befc",
   "metadata": {},
   "outputs": [],
   "source": [
    "# For multiplication <MulBackward>\n",
    "z2 = x * x * 2\n",
    "print(z2)\n",
    "# For mean <MeanBackward>\n",
    "z3 = z2.mean()\n",
    "print(z3)\n",
    "# To calculate gradient\n",
    "z3.backward() #dz1/dx\n",
    "print(x.grad)\n",
    "\n",
    "# Define feature, label and weight\n",
    "x = torch.tensor(2.0)\n",
    "w = torch.tensor(1.0, requires_grad=True)\n",
    "y = torch.tensor(4.0)\n",
    "\n",
    "# The forward pass and compute loss\n",
    "y_hat = w * x\n",
    "loss = (y_hat - y)**2\n",
    "print(\"y_hat: \", y_hat.item())\n",
    "print(\"loss: \", loss.item())import torch\n",
    "\n",
    "#### - The `rand(3)` means only positive randoms while the `randn(3)` includes negative randoms too\n",
    "\n",
    "x = torch.randn(3, requires_grad=True)\n",
    "print(x)\n",
    "\n",
    "# For addition <AddBackward>\n",
    "z1 = x + 2\n",
    "print(z1)\n",
    "\n",
    "#### - A graph is maintained when `requires_grad=True` just like the following\n",
    "\n",
    "<img src=\"images/computational_graph.png\" height=\"30%\" width=\"30%\">\n",
    "<ul>\n",
    "\n",
    "# For multiplication <MulBackward>\n",
    "z2 = x * x * 2\n",
    "print(z2)\n",
    "\n",
    "# For mean <MeanBackward>\n",
    "z3 = z2.mean()\n",
    "print(z3)\n",
    "\n",
    "# To calculate gradient\n",
    "z3.backward() #dz1/dx\n",
    "print(x.grad)\n",
    "\n",
    "#### - A short gradient calculation\n",
    "<ul>\n",
    "    <li>Forward Pass (Black)</li>\n",
    "    <li>Backward Pass (Red)</li>\n",
    "</ul>\n",
    "\n",
    "<img src=\"images/simple_neuralnet.png\">\n",
    "\n",
    "# Define feature, label and weight\n",
    "x = torch.tensor(2.0)\n",
    "w = torch.tensor(1.0, requires_grad=True)\n",
    "y = torch.tensor(4.0)\n",
    "\n",
    "# The forward pass and compute loss\n",
    "y_hat = w * x\n",
    "loss = (y_hat - y)**2\n",
    "print(\"y_hat: \", y_hat.item())\n",
    "print(\"loss: \", loss.item())\n",
    "\n",
    "# The backward pass and gradient computation (main with local)\n",
    "loss.backward()\n",
    "\n",
    "# The final weight derivative after gradient calculation\n",
    "print(\"dL/dw: \",w.grad.item())\n",
    "\n",
    "# Update the weight with the learning rate\n",
    "w = w - 0.01 * w.grad\n",
    "print(\"New weight\" ,w.item())"
   ]
  }
 ],
 "metadata": {
  "colab": {
   "provenance": []
  },
  "kernelspec": {
   "display_name": "Python 3 (ipykernel)",
   "language": "python",
   "name": "python3"
  },
  "language_info": {
   "codemirror_mode": {
    "name": "ipython",
    "version": 3
   },
   "file_extension": ".py",
   "mimetype": "text/x-python",
   "name": "python",
   "nbconvert_exporter": "python",
   "pygments_lexer": "ipython3",
   "version": "3.9.16"
  }
 },
 "nbformat": 4,
 "nbformat_minor": 5
}
