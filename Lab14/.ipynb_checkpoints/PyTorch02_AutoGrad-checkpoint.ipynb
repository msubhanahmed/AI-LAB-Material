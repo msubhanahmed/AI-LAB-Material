{
 "cells": [
  {
   "cell_type": "code",
   "execution_count": null,
   "id": "db6281df",
   "metadata": {
    "id": "db6281df"
   },
   "outputs": [],
   "source": [
    "import torch"
   ]
  },
  {
   "cell_type": "markdown",
   "id": "bb4d0349",
   "metadata": {
    "id": "bb4d0349"
   },
   "source": [
    "#### - The `rand(3)` means only positive randoms while the `randn(3)` includes negative randoms too"
   ]
  },
  {
   "cell_type": "code",
   "execution_count": null,
   "id": "9b27d082",
   "metadata": {
    "id": "9b27d082",
    "outputId": "a453933e-5423-403d-cf55-05c87a3cbdd7"
   },
   "outputs": [
    {
     "name": "stdout",
     "output_type": "stream",
     "text": [
      "tensor([-0.3389,  0.7706,  1.0508], requires_grad=True)\n"
     ]
    }
   ],
   "source": [
    "x = torch.randn(3, requires_grad=True)\n",
    "print(x)"
   ]
  },
  {
   "cell_type": "code",
   "execution_count": null,
   "id": "e2b10777",
   "metadata": {
    "id": "e2b10777",
    "outputId": "d041e27e-a458-4b4c-9295-c73ef5b66c3f"
   },
   "outputs": [
    {
     "name": "stdout",
     "output_type": "stream",
     "text": [
      "tensor([1.6611, 2.7706, 3.0508], grad_fn=<AddBackward0>)\n"
     ]
    }
   ],
   "source": [
    "# For addition <AddBackward>\n",
    "z1 = x + 2\n",
    "print(z1)"
   ]
  },
  {
   "cell_type": "markdown",
   "id": "d4e2112f",
   "metadata": {
    "id": "d4e2112f"
   },
   "source": [
    "#### - A graph is maintained when `requires_grad=True` just like the following"
   ]
  },
  {
   "cell_type": "markdown",
   "id": "65a4bc1f",
   "metadata": {
    "id": "65a4bc1f"
   },
   "source": [
    "<img src=\"images/computational_graph.png\" height=\"30%\" width=\"30%\">\n",
    "<ul>"
   ]
  },
  {
   "cell_type": "code",
   "execution_count": null,
   "id": "8f197b04",
   "metadata": {
    "id": "8f197b04",
    "outputId": "c10e2e14-8be6-404e-b36c-464028bbbd6d"
   },
   "outputs": [
    {
     "name": "stdout",
     "output_type": "stream",
     "text": [
      "tensor([0.2297, 1.1875, 2.2085], grad_fn=<MulBackward0>)\n"
     ]
    }
   ],
   "source": [
    "# For multiplication <MulBackward>\n",
    "z2 = x * x * 2\n",
    "print(z2)"
   ]
  },
  {
   "cell_type": "code",
   "execution_count": null,
   "id": "55e7213a",
   "metadata": {
    "id": "55e7213a",
    "outputId": "241d458e-b0eb-4e95-ae2b-c81029a8a349"
   },
   "outputs": [
    {
     "name": "stdout",
     "output_type": "stream",
     "text": [
      "tensor(1.2086, grad_fn=<MeanBackward0>)\n"
     ]
    }
   ],
   "source": [
    "# For mean <MeanBackward>\n",
    "z3 = z2.mean()\n",
    "print(z3)"
   ]
  },
  {
   "cell_type": "code",
   "execution_count": null,
   "id": "c6b24885",
   "metadata": {
    "id": "c6b24885",
    "outputId": "f8e1166d-21ab-474e-b916-7a8290d53ba2"
   },
   "outputs": [
    {
     "name": "stdout",
     "output_type": "stream",
     "text": [
      "tensor([-0.4518,  1.0274,  1.4011])\n"
     ]
    }
   ],
   "source": [
    "# To calculate gradient\n",
    "z3.backward() #dz1/dx\n",
    "print(x.grad)"
   ]
  },
  {
   "cell_type": "markdown",
   "id": "12832b7b",
   "metadata": {
    "id": "12832b7b"
   },
   "source": [
    "#### - A short gradient calculation\n",
    "<ul>\n",
    "    <li>Forward Pass (Black)</li>\n",
    "    <li>Backward Pass (Red)</li>\n",
    "</ul>"
   ]
  },
  {
   "cell_type": "markdown",
   "id": "ef1d67f7",
   "metadata": {
    "id": "ef1d67f7"
   },
   "source": [
    "<img src=\"images/simple_neuralnet.png\">"
   ]
  },
  {
   "cell_type": "code",
   "execution_count": null,
   "id": "ead0b63b",
   "metadata": {
    "id": "ead0b63b"
   },
   "outputs": [],
   "source": [
    "# Define feature, label and weight\n",
    "x = torch.tensor(2.0)\n",
    "w = torch.tensor(1.0, requires_grad=True)\n",
    "y = torch.tensor(4.0)"
   ]
  },
  {
   "cell_type": "code",
   "execution_count": null,
   "id": "d562f248",
   "metadata": {
    "id": "d562f248",
    "outputId": "584aafd2-82b0-4296-a0a5-2b176962d733"
   },
   "outputs": [
    {
     "name": "stdout",
     "output_type": "stream",
     "text": [
      "y_hat:  2.0\n",
      "loss:  4.0\n"
     ]
    }
   ],
   "source": [
    "# The forward pass and compute loss\n",
    "y_hat = w * x\n",
    "loss = (y_hat - y)**2\n",
    "print(\"y_hat: \", y_hat.item())\n",
    "print(\"loss: \", loss.item())"
   ]
  },
  {
   "cell_type": "code",
   "execution_count": null,
   "id": "b91c6146",
   "metadata": {
    "id": "b91c6146"
   },
   "outputs": [],
   "source": [
    "# The backward pass and gradient computation (main with local)\n",
    "loss.backward()"
   ]
  },
  {
   "cell_type": "code",
   "execution_count": null,
   "id": "56599e90",
   "metadata": {
    "id": "56599e90",
    "outputId": "db9df6b1-b27f-4e77-9e0c-8b4d2c4b946b"
   },
   "outputs": [
    {
     "name": "stdout",
     "output_type": "stream",
     "text": [
      "dL/dw:  -8.0\n"
     ]
    }
   ],
   "source": [
    "# The final weight derivative after gradient calculation\n",
    "print(\"dL/dw: \",w.grad.item())"
   ]
  },
  {
   "cell_type": "code",
   "execution_count": null,
   "id": "eebfb3d6",
   "metadata": {
    "id": "eebfb3d6",
    "outputId": "7d65f9b5-ca2f-455a-d8ae-355b9ea0fd0b"
   },
   "outputs": [
    {
     "name": "stdout",
     "output_type": "stream",
     "text": [
      "New weight 1.0800000429153442\n"
     ]
    }
   ],
   "source": [
    "# Update the weight with the learning rate\n",
    "w = w - 0.01 * w.grad\n",
    "print(\"New weight\" ,w.item())"
   ]
  }
 ],
 "metadata": {
  "colab": {
   "provenance": []
  },
  "kernelspec": {
   "display_name": "Python 3 (ipykernel)",
   "language": "python",
   "name": "python3"
  },
  "language_info": {
   "codemirror_mode": {
    "name": "ipython",
    "version": 3
   },
   "file_extension": ".py",
   "mimetype": "text/x-python",
   "name": "python",
   "nbconvert_exporter": "python",
   "pygments_lexer": "ipython3",
   "version": "3.9.16"
  }
 },
 "nbformat": 4,
 "nbformat_minor": 5
}
