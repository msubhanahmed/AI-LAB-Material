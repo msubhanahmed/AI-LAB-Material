{
  "cells": [
    {
      "cell_type": "code",
      "execution_count": 145,
      "metadata": {
        "id": "NzTsfc2JBfBi"
      },
      "outputs": [],
      "source": [
        "import pandas\n",
        "import numpy\n",
        "import matplotlib.pyplot as plt\n",
        "from torch.utils.data import Dataset, DataLoader\n",
        "from torch import nn\n",
        "from torch import optim\n",
        "from torch.nn import functional as F\n",
        "from torch.autograd import Variable\n",
        "from sklearn import datasets\n",
        "import torch"
      ]
    },
    {
      "cell_type": "code",
      "source": [
        "# Define the device to use\n",
        "device = torch.device(\"cuda\" if torch.cuda.is_available() else \"cpu\")\n",
        "print(f'Device Selected for Training: {device}')"
      ],
      "metadata": {
        "colab": {
          "base_uri": "https://localhost:8080/"
        },
        "id": "QbtO8YliB9wl",
        "outputId": "7197ba50-8af3-4b76-cf61-e5ef4ccf8637"
      },
      "execution_count": 146,
      "outputs": [
        {
          "output_type": "stream",
          "name": "stdout",
          "text": [
            "Device Selected for Training: cuda\n"
          ]
        }
      ]
    },
    {
      "cell_type": "code",
      "execution_count": 147,
      "metadata": {
        "colab": {
          "base_uri": "https://localhost:8080/",
          "height": 206
        },
        "id": "LajuD1cpBfBm",
        "outputId": "6a9a3dc7-d543-4d39-f70c-5f3796a106bb"
      },
      "outputs": [
        {
          "output_type": "execute_result",
          "data": {
            "text/plain": [
              "   sepal_length  sepal_width  petal_length  petal_width  target\n",
              "0           5.1          3.5           1.4          0.2       0\n",
              "1           4.9          3.0           1.4          0.2       0\n",
              "2           4.7          3.2           1.3          0.2       0\n",
              "3           4.6          3.1           1.5          0.2       0\n",
              "4           5.0          3.6           1.4          0.2       0"
            ],
            "text/html": [
              "\n",
              "  <div id=\"df-01c452ec-caaa-4daa-aeaa-5462514dd3f3\">\n",
              "    <div class=\"colab-df-container\">\n",
              "      <div>\n",
              "<style scoped>\n",
              "    .dataframe tbody tr th:only-of-type {\n",
              "        vertical-align: middle;\n",
              "    }\n",
              "\n",
              "    .dataframe tbody tr th {\n",
              "        vertical-align: top;\n",
              "    }\n",
              "\n",
              "    .dataframe thead th {\n",
              "        text-align: right;\n",
              "    }\n",
              "</style>\n",
              "<table border=\"1\" class=\"dataframe\">\n",
              "  <thead>\n",
              "    <tr style=\"text-align: right;\">\n",
              "      <th></th>\n",
              "      <th>sepal_length</th>\n",
              "      <th>sepal_width</th>\n",
              "      <th>petal_length</th>\n",
              "      <th>petal_width</th>\n",
              "      <th>target</th>\n",
              "    </tr>\n",
              "  </thead>\n",
              "  <tbody>\n",
              "    <tr>\n",
              "      <th>0</th>\n",
              "      <td>5.1</td>\n",
              "      <td>3.5</td>\n",
              "      <td>1.4</td>\n",
              "      <td>0.2</td>\n",
              "      <td>0</td>\n",
              "    </tr>\n",
              "    <tr>\n",
              "      <th>1</th>\n",
              "      <td>4.9</td>\n",
              "      <td>3.0</td>\n",
              "      <td>1.4</td>\n",
              "      <td>0.2</td>\n",
              "      <td>0</td>\n",
              "    </tr>\n",
              "    <tr>\n",
              "      <th>2</th>\n",
              "      <td>4.7</td>\n",
              "      <td>3.2</td>\n",
              "      <td>1.3</td>\n",
              "      <td>0.2</td>\n",
              "      <td>0</td>\n",
              "    </tr>\n",
              "    <tr>\n",
              "      <th>3</th>\n",
              "      <td>4.6</td>\n",
              "      <td>3.1</td>\n",
              "      <td>1.5</td>\n",
              "      <td>0.2</td>\n",
              "      <td>0</td>\n",
              "    </tr>\n",
              "    <tr>\n",
              "      <th>4</th>\n",
              "      <td>5.0</td>\n",
              "      <td>3.6</td>\n",
              "      <td>1.4</td>\n",
              "      <td>0.2</td>\n",
              "      <td>0</td>\n",
              "    </tr>\n",
              "  </tbody>\n",
              "</table>\n",
              "</div>\n",
              "      <button class=\"colab-df-convert\" onclick=\"convertToInteractive('df-01c452ec-caaa-4daa-aeaa-5462514dd3f3')\"\n",
              "              title=\"Convert this dataframe to an interactive table.\"\n",
              "              style=\"display:none;\">\n",
              "        \n",
              "  <svg xmlns=\"http://www.w3.org/2000/svg\" height=\"24px\"viewBox=\"0 0 24 24\"\n",
              "       width=\"24px\">\n",
              "    <path d=\"M0 0h24v24H0V0z\" fill=\"none\"/>\n",
              "    <path d=\"M18.56 5.44l.94 2.06.94-2.06 2.06-.94-2.06-.94-.94-2.06-.94 2.06-2.06.94zm-11 1L8.5 8.5l.94-2.06 2.06-.94-2.06-.94L8.5 2.5l-.94 2.06-2.06.94zm10 10l.94 2.06.94-2.06 2.06-.94-2.06-.94-.94-2.06-.94 2.06-2.06.94z\"/><path d=\"M17.41 7.96l-1.37-1.37c-.4-.4-.92-.59-1.43-.59-.52 0-1.04.2-1.43.59L10.3 9.45l-7.72 7.72c-.78.78-.78 2.05 0 2.83L4 21.41c.39.39.9.59 1.41.59.51 0 1.02-.2 1.41-.59l7.78-7.78 2.81-2.81c.8-.78.8-2.07 0-2.86zM5.41 20L4 18.59l7.72-7.72 1.47 1.35L5.41 20z\"/>\n",
              "  </svg>\n",
              "      </button>\n",
              "      \n",
              "  <style>\n",
              "    .colab-df-container {\n",
              "      display:flex;\n",
              "      flex-wrap:wrap;\n",
              "      gap: 12px;\n",
              "    }\n",
              "\n",
              "    .colab-df-convert {\n",
              "      background-color: #E8F0FE;\n",
              "      border: none;\n",
              "      border-radius: 50%;\n",
              "      cursor: pointer;\n",
              "      display: none;\n",
              "      fill: #1967D2;\n",
              "      height: 32px;\n",
              "      padding: 0 0 0 0;\n",
              "      width: 32px;\n",
              "    }\n",
              "\n",
              "    .colab-df-convert:hover {\n",
              "      background-color: #E2EBFA;\n",
              "      box-shadow: 0px 1px 2px rgba(60, 64, 67, 0.3), 0px 1px 3px 1px rgba(60, 64, 67, 0.15);\n",
              "      fill: #174EA6;\n",
              "    }\n",
              "\n",
              "    [theme=dark] .colab-df-convert {\n",
              "      background-color: #3B4455;\n",
              "      fill: #D2E3FC;\n",
              "    }\n",
              "\n",
              "    [theme=dark] .colab-df-convert:hover {\n",
              "      background-color: #434B5C;\n",
              "      box-shadow: 0px 1px 3px 1px rgba(0, 0, 0, 0.15);\n",
              "      filter: drop-shadow(0px 1px 2px rgba(0, 0, 0, 0.3));\n",
              "      fill: #FFFFFF;\n",
              "    }\n",
              "  </style>\n",
              "\n",
              "      <script>\n",
              "        const buttonEl =\n",
              "          document.querySelector('#df-01c452ec-caaa-4daa-aeaa-5462514dd3f3 button.colab-df-convert');\n",
              "        buttonEl.style.display =\n",
              "          google.colab.kernel.accessAllowed ? 'block' : 'none';\n",
              "\n",
              "        async function convertToInteractive(key) {\n",
              "          const element = document.querySelector('#df-01c452ec-caaa-4daa-aeaa-5462514dd3f3');\n",
              "          const dataTable =\n",
              "            await google.colab.kernel.invokeFunction('convertToInteractive',\n",
              "                                                     [key], {});\n",
              "          if (!dataTable) return;\n",
              "\n",
              "          const docLinkHtml = 'Like what you see? Visit the ' +\n",
              "            '<a target=\"_blank\" href=https://colab.research.google.com/notebooks/data_table.ipynb>data table notebook</a>'\n",
              "            + ' to learn more about interactive tables.';\n",
              "          element.innerHTML = '';\n",
              "          dataTable['output_type'] = 'display_data';\n",
              "          await google.colab.output.renderOutput(dataTable, element);\n",
              "          const docLink = document.createElement('div');\n",
              "          docLink.innerHTML = docLinkHtml;\n",
              "          element.appendChild(docLink);\n",
              "        }\n",
              "      </script>\n",
              "    </div>\n",
              "  </div>\n",
              "  "
            ]
          },
          "metadata": {},
          "execution_count": 147
        }
      ],
      "source": [
        "read_data = datasets.load_iris()\n",
        "data = read_data.data\n",
        "target = read_data.target\n",
        "data = pandas.DataFrame(data)\n",
        "target = pandas.DataFrame(target)\n",
        "data = pandas.concat([data, target], axis=1)\n",
        "data.columns = ['sepal_length', 'sepal_width', 'petal_length', 'petal_width', 'target']\n",
        "data.head()"
      ]
    },
    {
      "cell_type": "code",
      "execution_count": 148,
      "metadata": {
        "id": "ozu9dLVDBfBn"
      },
      "outputs": [],
      "source": [
        "# Split the data into train and test\n",
        "train = data.sample(frac=0.8, random_state=200)\n",
        "test = data.drop(train.index)\n",
        "\n",
        "# Convert the data into tensors\n",
        "train_x = torch.from_numpy(train[['sepal_length', 'sepal_width', 'petal_length', 'petal_width']].values).float()\n",
        "train_y = torch.from_numpy(train[['target']].values)\n",
        "test_x = torch.from_numpy(test[['sepal_length', 'sepal_width', 'petal_length', 'petal_width']].values).float()\n",
        "test_y = torch.from_numpy(test[['target']].values)\n",
        "\n"
      ]
    },
    {
      "cell_type": "code",
      "execution_count": 149,
      "metadata": {
        "id": "Xk-DUjGGBfBn"
      },
      "outputs": [],
      "source": [
        "class Model(nn.Module):\n",
        "    def __init__(self):\n",
        "        super(Model, self).__init__()\n",
        "        self.layer1 =  nn.Linear(4, 50)\n",
        "        self.a1 = nn.ReLU()\n",
        "        self.layer2 = nn.Linear(50, 15)\n",
        "        self.a3 = nn.ReLU()\n",
        "        self.layer21 = nn.Linear(15, 10)\n",
        "        self.a2 = nn.Tanh()\n",
        "        self.layer3 = nn.Linear(10, 3)\n",
        "        \n",
        "    def forward(self, x):\n",
        "        x = self.layer1(x)\n",
        "        x = self.a1(x)\n",
        "        x = self.layer2(x)\n",
        "        x = self.a3(x)\n",
        "        x = self.layer21(x)\n",
        "        x = self.a2(x)\n",
        "        x = self.layer3(x)\n",
        "        return x"
      ]
    },
    {
      "cell_type": "code",
      "execution_count": 150,
      "metadata": {
        "colab": {
          "base_uri": "https://localhost:8080/"
        },
        "id": "acBrCj9UBfBo",
        "outputId": "b799ed96-ca61-4601-d03c-e6bcdbb4b7e1"
      },
      "outputs": [
        {
          "output_type": "execute_result",
          "data": {
            "text/plain": [
              "tensor([[0, 1, 0],\n",
              "        [0, 0, 1],\n",
              "        [1, 0, 0],\n",
              "        [1, 0, 0],\n",
              "        [0, 1, 0],\n",
              "        [0, 0, 1],\n",
              "        [0, 1, 0],\n",
              "        [0, 1, 0],\n",
              "        [0, 1, 0],\n",
              "        [0, 0, 1],\n",
              "        [0, 0, 1],\n",
              "        [1, 0, 0],\n",
              "        [1, 0, 0],\n",
              "        [1, 0, 0],\n",
              "        [0, 0, 1],\n",
              "        [1, 0, 0],\n",
              "        [0, 1, 0],\n",
              "        [1, 0, 0],\n",
              "        [0, 1, 0],\n",
              "        [0, 0, 1],\n",
              "        [1, 0, 0],\n",
              "        [0, 1, 0],\n",
              "        [0, 0, 1],\n",
              "        [1, 0, 0],\n",
              "        [1, 0, 0],\n",
              "        [1, 0, 0],\n",
              "        [0, 1, 0],\n",
              "        [0, 0, 1],\n",
              "        [0, 0, 1],\n",
              "        [0, 1, 0],\n",
              "        [1, 0, 0],\n",
              "        [0, 1, 0],\n",
              "        [0, 1, 0],\n",
              "        [1, 0, 0],\n",
              "        [0, 1, 0],\n",
              "        [1, 0, 0],\n",
              "        [1, 0, 0],\n",
              "        [1, 0, 0],\n",
              "        [0, 0, 1],\n",
              "        [0, 1, 0],\n",
              "        [0, 1, 0],\n",
              "        [1, 0, 0],\n",
              "        [1, 0, 0],\n",
              "        [0, 1, 0],\n",
              "        [0, 0, 1],\n",
              "        [0, 0, 1],\n",
              "        [0, 0, 1],\n",
              "        [1, 0, 0],\n",
              "        [0, 0, 1],\n",
              "        [0, 1, 0],\n",
              "        [0, 0, 1],\n",
              "        [0, 1, 0],\n",
              "        [0, 1, 0],\n",
              "        [0, 1, 0],\n",
              "        [0, 0, 1],\n",
              "        [1, 0, 0],\n",
              "        [0, 1, 0],\n",
              "        [0, 1, 0],\n",
              "        [0, 1, 0],\n",
              "        [0, 0, 1],\n",
              "        [1, 0, 0],\n",
              "        [1, 0, 0],\n",
              "        [0, 0, 1],\n",
              "        [1, 0, 0],\n",
              "        [1, 0, 0],\n",
              "        [0, 0, 1],\n",
              "        [0, 1, 0],\n",
              "        [1, 0, 0],\n",
              "        [1, 0, 0],\n",
              "        [0, 0, 1],\n",
              "        [1, 0, 0],\n",
              "        [1, 0, 0],\n",
              "        [0, 0, 1],\n",
              "        [0, 0, 1],\n",
              "        [0, 1, 0],\n",
              "        [0, 1, 0],\n",
              "        [0, 0, 1],\n",
              "        [1, 0, 0],\n",
              "        [1, 0, 0],\n",
              "        [0, 0, 1],\n",
              "        [0, 1, 0],\n",
              "        [1, 0, 0],\n",
              "        [0, 0, 1],\n",
              "        [0, 0, 1],\n",
              "        [1, 0, 0],\n",
              "        [1, 0, 0],\n",
              "        [0, 1, 0],\n",
              "        [0, 0, 1],\n",
              "        [0, 1, 0],\n",
              "        [0, 0, 1],\n",
              "        [1, 0, 0],\n",
              "        [0, 1, 0],\n",
              "        [1, 0, 0],\n",
              "        [0, 0, 1],\n",
              "        [0, 1, 0],\n",
              "        [0, 0, 1],\n",
              "        [0, 1, 0],\n",
              "        [0, 0, 1],\n",
              "        [0, 1, 0],\n",
              "        [0, 0, 1],\n",
              "        [0, 0, 1],\n",
              "        [0, 1, 0],\n",
              "        [0, 1, 0],\n",
              "        [0, 0, 1],\n",
              "        [0, 1, 0],\n",
              "        [1, 0, 0],\n",
              "        [0, 0, 1],\n",
              "        [0, 0, 1],\n",
              "        [0, 1, 0],\n",
              "        [0, 1, 0],\n",
              "        [1, 0, 0],\n",
              "        [1, 0, 0],\n",
              "        [0, 0, 1],\n",
              "        [1, 0, 0],\n",
              "        [0, 1, 0],\n",
              "        [0, 0, 1],\n",
              "        [0, 1, 0],\n",
              "        [1, 0, 0],\n",
              "        [1, 0, 0],\n",
              "        [1, 0, 0]])"
            ]
          },
          "metadata": {},
          "execution_count": 150
        }
      ],
      "source": [
        "# One hot encoding of the target\n",
        "train_y_one_hot = F.one_hot(train_y.squeeze().long())\n",
        "test_y_one_hot = F.one_hot(test_y.squeeze().long())\n",
        "\n",
        "train_y_one_hot"
      ]
    },
    {
      "cell_type": "code",
      "execution_count": 151,
      "metadata": {
        "colab": {
          "base_uri": "https://localhost:8080/"
        },
        "id": "_6ouhIE2BfBo",
        "outputId": "2b26378a-5409-488e-ebb1-6eba0c28c92d"
      },
      "outputs": [
        {
          "output_type": "execute_result",
          "data": {
            "text/plain": [
              "torch.Size([120, 3])"
            ]
          },
          "metadata": {},
          "execution_count": 151
        }
      ],
      "source": [
        "train_y_one_hot.shape"
      ]
    },
    {
      "cell_type": "code",
      "execution_count": 152,
      "metadata": {
        "colab": {
          "base_uri": "https://localhost:8080/"
        },
        "id": "W8e40u5aBfBp",
        "outputId": "6c7db7fb-e824-4ef0-e3e0-f40e61f0a69a"
      },
      "outputs": [
        {
          "output_type": "stream",
          "name": "stdout",
          "text": [
            "torch.Size([120, 4])\n",
            "torch.Size([120, 3])\n",
            "torch.Size([30, 4])\n",
            "torch.Size([30, 3])\n",
            "torch.Size([120, 1])\n",
            "torch.Size([30, 1])\n"
          ]
        }
      ],
      "source": [
        "print(train_x.shape)\n",
        "print(train_y_one_hot.shape)\n",
        "print(test_x.shape)\n",
        "print(test_y_one_hot.shape)\n",
        "print(train_y.shape)\n",
        "print(test_y.shape)"
      ]
    },
    {
      "cell_type": "code",
      "execution_count": 153,
      "metadata": {
        "colab": {
          "base_uri": "https://localhost:8080/",
          "height": 1000
        },
        "id": "t4mQdoPKBfBp",
        "outputId": "415daeb4-8f6a-4650-cfcd-55697569cad2"
      },
      "outputs": [
        {
          "output_type": "stream",
          "name": "stdout",
          "text": [
            "Epoch: 0, Loss: 1.1993855237960815\n",
            "Epoch: 100, Loss: 1.1629804372787476\n",
            "Epoch: 200, Loss: 1.1380780935287476\n",
            "Epoch: 300, Loss: 1.1178576946258545\n",
            "Epoch: 400, Loss: 1.1001139879226685\n",
            "Epoch: 500, Loss: 1.0836387872695923\n",
            "Epoch: 600, Loss: 1.0673869848251343\n",
            "Epoch: 700, Loss: 1.0502127408981323\n",
            "Epoch: 800, Loss: 1.031339168548584\n",
            "Epoch: 900, Loss: 1.0101873874664307\n",
            "Epoch: 1000, Loss: 0.9864820241928101\n",
            "Epoch: 1100, Loss: 0.9596585035324097\n",
            "Epoch: 1200, Loss: 0.9299747943878174\n",
            "Epoch: 1300, Loss: 0.8977951407432556\n",
            "Epoch: 1400, Loss: 0.8633403182029724\n",
            "Epoch: 1500, Loss: 0.8274498581886292\n",
            "Epoch: 1600, Loss: 0.7912033200263977\n",
            "Epoch: 1700, Loss: 0.7557892799377441\n",
            "Epoch: 1800, Loss: 0.7222230434417725\n",
            "Epoch: 1900, Loss: 0.6910534501075745\n",
            "Epoch: 2000, Loss: 0.6625946164131165\n",
            "Epoch: 2100, Loss: 0.6369205713272095\n",
            "Epoch: 2200, Loss: 0.613944411277771\n",
            "Epoch: 2300, Loss: 0.5934509634971619\n",
            "Epoch: 2400, Loss: 0.5751304030418396\n",
            "Epoch: 2500, Loss: 0.5586872100830078\n",
            "Epoch: 2600, Loss: 0.5438560247421265\n",
            "Epoch: 2700, Loss: 0.5303363800048828\n",
            "Epoch: 2800, Loss: 0.5178651213645935\n",
            "Epoch: 2900, Loss: 0.5062640309333801\n",
            "Epoch: 3000, Loss: 0.49536818265914917\n",
            "Epoch: 3100, Loss: 0.4850602149963379\n",
            "Epoch: 3200, Loss: 0.47519439458847046\n",
            "Epoch: 3300, Loss: 0.4656817317008972\n",
            "Epoch: 3400, Loss: 0.45647096633911133\n",
            "Epoch: 3500, Loss: 0.4475831091403961\n",
            "Epoch: 3600, Loss: 0.43892747163772583\n",
            "Epoch: 3700, Loss: 0.43042293190956116\n",
            "Epoch: 3800, Loss: 0.42202991247177124\n",
            "Epoch: 3900, Loss: 0.4137207567691803\n",
            "Epoch: 4000, Loss: 0.40548408031463623\n",
            "Epoch: 4100, Loss: 0.39728567004203796\n",
            "Epoch: 4200, Loss: 0.38911914825439453\n",
            "Epoch: 4300, Loss: 0.38100048899650574\n",
            "Epoch: 4400, Loss: 0.3729289472103119\n",
            "Epoch: 4500, Loss: 0.3649045526981354\n",
            "Epoch: 4600, Loss: 0.35692980885505676\n",
            "Epoch: 4700, Loss: 0.34902435541152954\n",
            "Epoch: 4800, Loss: 0.34120675921440125\n",
            "Epoch: 4900, Loss: 0.3334861695766449\n",
            "Epoch: 5000, Loss: 0.3258725702762604\n",
            "Epoch: 5100, Loss: 0.318376362323761\n",
            "Epoch: 5200, Loss: 0.31101447343826294\n",
            "Epoch: 5300, Loss: 0.3037942349910736\n",
            "Epoch: 5400, Loss: 0.296726793050766\n",
            "Epoch: 5500, Loss: 0.2898218631744385\n",
            "Epoch: 5600, Loss: 0.2830880284309387\n",
            "Epoch: 5700, Loss: 0.27653244137763977\n",
            "Epoch: 5800, Loss: 0.27015864849090576\n",
            "Epoch: 5900, Loss: 0.26397112011909485\n",
            "Epoch: 6000, Loss: 0.25797194242477417\n",
            "Epoch: 6100, Loss: 0.2521634101867676\n",
            "Epoch: 6200, Loss: 0.24654577672481537\n",
            "Epoch: 6300, Loss: 0.2411172091960907\n",
            "Epoch: 6400, Loss: 0.23587538301944733\n",
            "Epoch: 6500, Loss: 0.2308175265789032\n",
            "Epoch: 6600, Loss: 0.22594033181667328\n",
            "Epoch: 6700, Loss: 0.2212405651807785\n",
            "Epoch: 6800, Loss: 0.2167133092880249\n",
            "Epoch: 6900, Loss: 0.21235445141792297\n",
            "Epoch: 7000, Loss: 0.2081594318151474\n",
            "Epoch: 7100, Loss: 0.20412233471870422\n",
            "Epoch: 7200, Loss: 0.20023781061172485\n",
            "Epoch: 7300, Loss: 0.1965034455060959\n",
            "Epoch: 7400, Loss: 0.19291125237941742\n",
            "Epoch: 7500, Loss: 0.18945516645908356\n",
            "Epoch: 7600, Loss: 0.18612973392009735\n",
            "Epoch: 7700, Loss: 0.1829299032688141\n",
            "Epoch: 7800, Loss: 0.17985102534294128\n",
            "Epoch: 7900, Loss: 0.17688719928264618\n",
            "Epoch: 8000, Loss: 0.17403346300125122\n",
            "Epoch: 8100, Loss: 0.17128509283065796\n",
            "Epoch: 8200, Loss: 0.1686374545097351\n",
            "Epoch: 8300, Loss: 0.16608640551567078\n",
            "Epoch: 8400, Loss: 0.16362813115119934\n",
            "Epoch: 8500, Loss: 0.16125831007957458\n",
            "Epoch: 8600, Loss: 0.1589728146791458\n",
            "Epoch: 8700, Loss: 0.15676788985729218\n",
            "Epoch: 8800, Loss: 0.1546398550271988\n",
            "Epoch: 8900, Loss: 0.1525851935148239\n",
            "Epoch: 9000, Loss: 0.15060052275657654\n",
            "Epoch: 9100, Loss: 0.14868269860744476\n",
            "Epoch: 9200, Loss: 0.14682923257350922\n",
            "Epoch: 9300, Loss: 0.14503692090511322\n",
            "Epoch: 9400, Loss: 0.1433030366897583\n",
            "Epoch: 9500, Loss: 0.1416253298521042\n",
            "Epoch: 9600, Loss: 0.14000092446804047\n",
            "Epoch: 9700, Loss: 0.13842755556106567\n",
            "Epoch: 9800, Loss: 0.13690297305583954\n",
            "Epoch: 9900, Loss: 0.13542504608631134\n"
          ]
        },
        {
          "output_type": "display_data",
          "data": {
            "text/plain": [
              "<Figure size 640x480 with 1 Axes>"
            ],
            "image/png": "[encoded data removed]"
          },
          "metadata": {}
        }
      ],
      "source": [
        "newt = Model().to(device)\n",
        "criterion = nn.CrossEntropyLoss()\n",
        "optimizer = optim.SGD(newt.parameters(), lr=0.001)\n",
        "losses = []\n",
        "for epoch in range(10000):\n",
        "    optimizer.zero_grad()\n",
        "    train_x = train_x.to(device)\n",
        "    out = newt(train_x)\n",
        "    train_y_one_hot = train_y_one_hot.float()\n",
        "    out, train_y_one_hot = out.to(device), train_y_one_hot.to(device)\n",
        "    loss = criterion(out, train_y_one_hot)\n",
        "    losses.append(loss.item())\n",
        "    loss.backward()\n",
        "    optimizer.step()\n",
        "    if epoch % 100 == 0:\n",
        "        print('Epoch: {}, Loss: {}'.format(epoch, loss.item()))\n",
        "\n",
        "plt.plot(losses)\n",
        "plt.show()"
      ]
    },
    {
      "cell_type": "code",
      "execution_count": 154,
      "metadata": {
        "id": "CVUmRhqPBfBq",
        "outputId": "b0b7b692-0054-41f1-8ba0-9891616679ce",
        "colab": {
          "base_uri": "https://localhost:8080/"
        }
      },
      "outputs": [
        {
          "output_type": "stream",
          "name": "stdout",
          "text": [
            "Predicted:  tensor([0, 0, 0, 0, 0, 0, 0, 0, 1, 1, 1, 1, 2, 1, 1, 1, 1, 1, 2, 2, 2, 2, 2, 2,\n",
            "        2, 2, 2, 2, 2, 2], device='cuda:0')\n",
            "Actual:  tensor([0, 0, 0, 0, 0, 0, 0, 0, 1, 1, 1, 1, 1, 1, 1, 1, 1, 1, 2, 2, 2, 2, 2, 2,\n",
            "        2, 2, 2, 2, 2, 2], device='cuda:0')\n",
            "Accuracy of the network on the 30 test images: 96 %\n"
          ]
        }
      ],
      "source": [
        "# Predict the test data\n",
        "test_x = test_x.to(device)\n",
        "test_y = test_y.to(device)\n",
        "out = newt(test_x)\n",
        "_, predicted = torch.max(out.data, 1)\n",
        "print('Predicted: ', predicted)\n",
        "print('Actual: ', test_y.squeeze())\n",
        "\n",
        "# Calculate the accuracy\n",
        "\n",
        "correct = 0\n",
        "total = len(test_x)\n",
        "\n",
        "for i in range(total):\n",
        "    if predicted[i] == test_y[i]:\n",
        "        correct+=1\n",
        "print('Accuracy of the network on the 30 test images: %d %%' % (100 * correct / total))\n"
      ]
    }
  ],
  "metadata": {
    "kernelspec": {
      "display_name": "base",
      "language": "python",
      "name": "python3"
    },
    "language_info": {
      "codemirror_mode": {
        "name": "ipython",
        "version": 3
      },
      "file_extension": ".py",
      "mimetype": "text/x-python",
      "name": "python",
      "nbconvert_exporter": "python",
      "pygments_lexer": "ipython3",
      "version": "3.9.7"
    },
    "vscode": {
      "interpreter": {
        "hash": "3ce2397aef71c0d12f785fd87c0b7fef94ead8d2f4d1a9ae094c6557efed0fcb"
      }
    },
    "colab": {
      "provenance": [],
      "gpuType": "T4"
    },
    "accelerator": "GPU",
    "gpuClass": "standard"
  },
  "nbformat": 4,
  "nbformat_minor": 0
}