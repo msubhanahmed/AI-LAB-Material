{
 "cells": [
  {
   "cell_type": "code",
   "execution_count": 14,
   "id": "0e5446f0",
   "metadata": {},
   "outputs": [],
   "source": [
    "import pandas as pd\n",
    "import numpy as np\n",
    "\n",
    "from sklearn.feature_extraction.text import CountVectorizer\n",
    "from sklearn.model_selection import train_test_split\n",
    "from sklearn.naive_bayes import MultinomialNB\n",
    "from sklearn.metrics import accuracy_score\n",
    "\n",
    "import matplotlib.pyplot as plt"
   ]
  },
  {
   "cell_type": "markdown",
   "id": "f16864d4",
   "metadata": {},
   "source": [
    "# Naive Bayes (MultinomialNB)"
   ]
  },
  {
   "cell_type": "code",
   "execution_count": 64,
   "id": "28807ed1",
   "metadata": {},
   "outputs": [
    {
     "name": "stdout",
     "output_type": "stream",
     "text": [
      "Accuracy: 98.14593301435407\n"
     ]
    }
   ],
   "source": [
    "spam_ham = pd.read_csv(\"spam_ham.csv\")\n",
    "\n",
    "X= spam_ham['Message']\n",
    "Y = spam_ham['Category']\n",
    "\n",
    "vectorizer = CountVectorizer()\n",
    "X = vectorizer.fit_transform(X)\n",
    "\n",
    "X_train, X_test, y_train, y_test = train_test_split(X, Y, test_size=0.3)\n",
    "\n",
    "\n",
    "model = MultinomialNB()\n",
    "model.fit(X_train, y_train)\n",
    "\n",
    "\n",
    "y_pred = model.predict(X_test)\n",
    "accuracy = accuracy_score(y_test, y_pred)\n",
    "\n",
    "print(\"Accuracy:\", accuracy*100)\n"
   ]
  },
  {
   "cell_type": "markdown",
   "id": "8306ec4c",
   "metadata": {},
   "source": [
    "# K-Means on Iris Dataset"
   ]
  },
  {
   "cell_type": "code",
   "execution_count": 65,
   "id": "ba5c7fa7",
   "metadata": {},
   "outputs": [
    {
     "name": "stderr",
     "output_type": "stream",
     "text": [
      "*c* argument looks like a single numeric RGB or RGBA sequence, which should be avoided as value-mapping will have precedence in case its length matches with *x* & *y*.  Please use the *color* keyword-argument or provide a 2D array with a single row if you intend to specify the same RGB or RGBA value for all points.\n",
      "*c* argument looks like a single numeric RGB or RGBA sequence, which should be avoided as value-mapping will have precedence in case its length matches with *x* & *y*.  Please use the *color* keyword-argument or provide a 2D array with a single row if you intend to specify the same RGB or RGBA value for all points.\n",
      "*c* argument looks like a single numeric RGB or RGBA sequence, which should be avoided as value-mapping will have precedence in case its length matches with *x* & *y*.  Please use the *color* keyword-argument or provide a 2D array with a single row if you intend to specify the same RGB or RGBA value for all points.\n"
     ]
    },
    {
     "data": {
      "text/plain": [
       "Text(0, 0.5, 'Width')"
      ]
     },
     "execution_count": 65,
     "metadata": {},
     "output_type": "execute_result"
    },
    {
     "data": {
      "image/png": "[encoded data removed]",
      "text/plain": [
       "<Figure size 640x480 with 1 Axes>"
      ]
     },
     "metadata": {},
     "output_type": "display_data"
    }
   ],
   "source": [
    "class KMeans:\n",
    "    def __init__(self):\n",
    "        self.k = 3\n",
    "    def random_centeroids(self, X):\n",
    "        return X[np.random.choice(len(X), size=self.k, replace=False)]\n",
    "    def distance(cluster1, cluster2):\n",
    "        return (np.sum((cluster1 - cluster2) ** 2))**0.5\n",
    "    def calculate_cluster (self, X, centroids):\n",
    "        clusters = [[] for _ in range(self.k)]\n",
    "        for index, data in enumerate(X):\n",
    "            distances = []\n",
    "            min_dist = 0\n",
    "            for centroid in centroids:\n",
    "                dist = euclidean_distance(data, centroid) \n",
    "                distances.append(dist)\n",
    "            for i in range(len(distances)):\n",
    "                if distances[i] < distances[int(min_dist)]:\n",
    "                    min_dist = i\n",
    "            clusters[min_dist].append(index)\n",
    "        return clusters\n",
    "    def modify_centeroids(self, X, clusters):\n",
    "        new_groups = np.zeros((3, X.shape[1]))\n",
    "        for index, cluster in enumerate(clusters):\n",
    "            cluster_val = X[cluster]\n",
    "            new_centroid = np.mean(cluster_val, axis=0)\n",
    "            new_groups[index] = new_centroid\n",
    "        return new_groups\n",
    "    def train_data(self, X):\n",
    "        centroids = self.random_centeroids(X)\n",
    "        for i in range(1000):\n",
    "            clusters = self.calculate_cluster(X, centroids)\n",
    "            prev_centroids = centroids\n",
    "            centroids = self.modify_centeroids(X, clusters)\n",
    "\n",
    "            if np.all(prev_centroids == centroids):\n",
    "                break\n",
    "\n",
    "        return clusters, centroids\n",
    "\n",
    "\n",
    "X = pd.read_csv('iris.csv').to_numpy()\n",
    "kmeans = KMeans()\n",
    "\n",
    "clusters, centroids = kmeans.train_data(X)\n",
    "colors = plt.cm.rainbow(np.linspace(0, 1, 10))\n",
    "\n",
    "for cluster_idx, cluster in enumerate(clusters):\n",
    "    cluster_samples = X[cluster]\n",
    "    plt.scatter(cluster_samples[:, 0], cluster_samples[:, 1], c=colors[cluster_idx])\n",
    "\n",
    "    \n",
    "plt.scatter(centroids[:, 0], centroids[:, 1], c='black', marker='x', s=100)\n",
    "plt.xlabel('Length')\n",
    "plt.ylabel('Width')"
   ]
  }
 ],
 "metadata": {
  "kernelspec": {
   "display_name": "Python 3 (ipykernel)",
   "language": "python",
   "name": "python3"
  },
  "language_info": {
   "codemirror_mode": {
    "name": "ipython",
    "version": 3
   },
   "file_extension": ".py",
   "mimetype": "text/x-python",
   "name": "python",
   "nbconvert_exporter": "python",
   "pygments_lexer": "ipython3",
   "version": "3.9.16"
  }
 },
 "nbformat": 4,
 "nbformat_minor": 5
}
