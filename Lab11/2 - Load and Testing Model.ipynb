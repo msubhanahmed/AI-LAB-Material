{
 "cells": [
  {
   "cell_type": "code",
   "execution_count": 1,
   "metadata": {},
   "outputs": [],
   "source": [
    "# Importing required libraries\n",
    "import joblib\n",
    "import numpy as np"
   ]
  },
  {
   "cell_type": "code",
   "execution_count": 2,
   "metadata": {},
   "outputs": [],
   "source": [
    "# Loading the saved model from the file\n",
    "loaded_model = joblib.load(\"linear_regression_model.pkl\")"
   ]
  },
  {
   "cell_type": "code",
   "execution_count": 3,
   "metadata": {},
   "outputs": [
    {
     "name": "stdout",
     "output_type": "stream",
     "text": [
      "Predicted scores for new study hours using loaded model: [107.13333333 111.04848485 114.96363636 118.87878788]\n"
     ]
    }
   ],
   "source": [
    "# Creating some new data for prediction\n",
    "X_new = np.array([[12], [13], [14], [15]])\n",
    "\n",
    "# Loading the saved model from the file\n",
    "loaded_model = joblib.load(\"linear_regression_model.pkl\")\n",
    "\n",
    "# Making predictions using the loaded model\n",
    "y_pred = loaded_model.predict(X_new)\n",
    "\n",
    "# Printing the predicted values\n",
    "print(\"Predicted scores for new study hours using loaded model:\", y_pred)"
   ]
  }
 ],
 "metadata": {
  "kernelspec": {
   "display_name": "Python 3 (ipykernel)",
   "language": "python",
   "name": "python3"
  },
  "language_info": {
   "codemirror_mode": {
    "name": "ipython",
    "version": 3
   },
   "file_extension": ".py",
   "mimetype": "text/x-python",
   "name": "python",
   "nbconvert_exporter": "python",
   "pygments_lexer": "ipython3",
   "version": "3.9.16"
  }
 },
 "nbformat": 4,
 "nbformat_minor": 2
}
