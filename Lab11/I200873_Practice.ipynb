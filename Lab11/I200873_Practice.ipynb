{
 "cells": [
  {
   "cell_type": "markdown",
   "id": "c7b14bf0",
   "metadata": {},
   "source": [
    "# Hello World App"
   ]
  },
  {
   "cell_type": "code",
   "execution_count": null,
   "id": "69c960e1",
   "metadata": {},
   "outputs": [],
   "source": [
    "# Simple Flask APP\n",
    "\n",
    "from flask import Flask\n",
    "\n",
    "app = Flask(__name__)\n",
    "@app.route('/')\n",
    "def hello_world():\n",
    "    return 'Hello, World!'\n",
    "\n",
    "if __name__ == '__main__':\n",
    "    app.run()"
   ]
  },
  {
   "cell_type": "markdown",
   "id": "cb7ef241",
   "metadata": {},
   "source": [
    "# Load Index.html"
   ]
  },
  {
   "cell_type": "code",
   "execution_count": null,
   "id": "b370d270",
   "metadata": {},
   "outputs": [],
   "source": [
    "#\n",
    "# Flask App to load html file \n",
    "#\n",
    "from flask import Flask, render_template\n",
    "app = Flask(__name__)\n",
    "@app.route('/')\n",
    "def index():\n",
    "    title = \"My Website\"\n",
    "    heading = \"Welcome!\"\n",
    "    items = [\"Item 1\", \"Item 2\",\"Item 3\"]\n",
    "    return render_template(\"index.html\", title=title, heading=heading, items=items)\n",
    "\n",
    "if __name__ == '__main__':\n",
    "    app.run(port=5000)"
   ]
  },
  {
   "cell_type": "code",
   "execution_count": null,
   "id": "80ed70a0",
   "metadata": {},
   "outputs": [],
   "source": [
    "from flask_wtf import FlaskForm\n",
    "from wtforms import StringField, SubmitField\n",
    "from wtforms.validators import DataRequired\n",
    "\n",
    "class MyForm(FlaskForm):\n",
    "    name = StringField('Name', validators=[DataRequired()])\n",
    "    email = StringField('Email', validators=[DataRequired()])\n",
    "    submit = SubmitField('Submit')\n"
   ]
  },
  {
   "cell_type": "code",
   "execution_count": null,
   "id": "11e8815a",
   "metadata": {
    "scrolled": false
   },
   "outputs": [],
   "source": [
    "from flask import Flask,render_template, request\n",
    "app = Flask(__name__)\n",
    "@app.route('/submit', methods=['POST'])\n",
    "def submit():\n",
    "    name= request.form['name']\n",
    "    email = request.form['email']\n",
    "    return f'Thank you, {name} ({email})!'\n",
    "@app.route('/')\n",
    "def hello_world():\n",
    "    return render_template('form.html')\n",
    "\n",
    "if __name__ == '__main__':\n",
    "    app.run()"
   ]
  },
  {
   "cell_type": "markdown",
   "id": "0d7acc4b",
   "metadata": {},
   "source": [
    "# Flask with Linear Regression"
   ]
  },
  {
   "cell_type": "code",
   "execution_count": null,
   "id": "faa4b4e2",
   "metadata": {},
   "outputs": [],
   "source": [
    "import pandas as pd\n",
    "from sklearn.linear_model import LinearRegression\n",
    "import pickle\n",
    "from flask import Flask, jsonify, request\n",
    "\n",
    "data = pd.read_csv('data.csv')\n",
    "X_train = data[['feature1', 'feature2']]\n",
    "y_train = data['target']\n",
    "X_test = data[['feature1', 'feature2']]\n",
    "y_test = data['target']\n",
    "\n",
    "model = LinearRegression()\n",
    "model.fit(X_train, y_train)\n",
    "\n",
    "with open('model.pkl', 'wb') as f:\n",
    "    pickle.dump(model, f)\n",
    "\n",
    "app = Flask(__name__)\n",
    "with open('model.pkl', 'rb') as f:\n",
    "    model = pickle.load(f)\n",
    "\n",
    "@app.route('/predict', methods=['POST'])\n",
    "def predict():\n",
    "    data = request.get_json()\n",
    "    X = [[data['feature1'], data['feature2']]]\n",
    "    prediction = model.predict(X)[0]\n",
    "    response = {'prediction': prediction}\n",
    "    return jsonify(response)\n"
   ]
  }
 ],
 "metadata": {
  "kernelspec": {
   "display_name": "Python 3 (ipykernel)",
   "language": "python",
   "name": "python3"
  },
  "language_info": {
   "codemirror_mode": {
    "name": "ipython",
    "version": 3
   },
   "file_extension": ".py",
   "mimetype": "text/x-python",
   "name": "python",
   "nbconvert_exporter": "python",
   "pygments_lexer": "ipython3",
   "version": "3.9.16"
  }
 },
 "nbformat": 4,
 "nbformat_minor": 5
}
