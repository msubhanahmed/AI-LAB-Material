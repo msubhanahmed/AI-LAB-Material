{
 "cells": [
  {
   "cell_type": "code",
   "execution_count": 13,
   "id": "107a3f76",
   "metadata": {
    "scrolled": true
   },
   "outputs": [],
   "source": [
    "# List of persons\n",
    "person = ['Subhan','Jawad','Rafay','Ubaid']\n",
    "# List of states\n",
    "states = {'Subhan':'Happy','Jawad':'Sad','Rafay':'Angry','Ubaid':'Happy'}\n",
    "# Dictory\n",
    "rules = {'Happy':'smile','Sad':'Crying','Angry':'Shouting'}\n"
   ]
  },
  {
   "cell_type": "code",
   "execution_count": 11,
   "id": "ca14524c",
   "metadata": {},
   "outputs": [
    {
     "name": "stdout",
     "output_type": "stream",
     "text": [
      "Press 0 for Subhan\n",
      "Press 1 for Jawad\n",
      "Press 2 for Rafay\n",
      "Press 3 for Ubaid\n",
      "0\n"
     ]
    }
   ],
   "source": [
    "for i in range(4):\n",
    "    print(\"Press \"+ str(i) +\" for \"+person[i])\n",
    "choice = int(input());"
   ]
  },
  {
   "cell_type": "code",
   "execution_count": 23,
   "id": "42c112cb",
   "metadata": {},
   "outputs": [
    {
     "name": "stdout",
     "output_type": "stream",
     "text": [
      "State: Happy\n",
      "Reflex Agent: smile\n"
     ]
    }
   ],
   "source": [
    "state = states[person[choice]]\n",
    "print(\"State: \"+state)\n",
    "print(\"Reflex Agent: \"+rules[state])"
   ]
  },
  {
   "cell_type": "code",
   "execution_count": 89,
   "id": "ff8d7de2",
   "metadata": {},
   "outputs": [],
   "source": [
    "apples=int(30)\n",
    "carrying_capacity=10\n",
    "dest_apples=0\n",
    "trips = 0"
   ]
  },
  {
   "cell_type": "code",
   "execution_count": 90,
   "id": "416eeda4",
   "metadata": {},
   "outputs": [
    {
     "name": "stdout",
     "output_type": "stream",
     "text": [
      "Apples Remaining at Store:30\n",
      "Transporting 10 Apples\n",
      "Apples at Destination 10\n",
      "Apples at Store 19\n",
      "\n",
      "\n",
      "\n",
      "Apples Remaining at Store:19\n",
      "Transporting 10 Apples\n",
      "Apples at Destination 19\n",
      "Apples at Store 8\n",
      "\n",
      "\n",
      "\n",
      "Apples Remaining at Store:8\n",
      "Transporting 7 Apples\n",
      "Apples at Destination 25\n",
      "Apples at Store 0\n",
      "\n",
      "\n",
      "\n",
      "Total Trips: 5\n"
     ]
    }
   ],
   "source": [
    "while(apples>0):\n",
    "    print(\"Apples Remaining at Store:\"+str(apples))\n",
    "    if(apples>carrying_capacity):\n",
    "        apples = apples - carrying_capacity\n",
    "        apples = apples - 1;\n",
    "    else:\n",
    "        carrying_capacity = apples\n",
    "        carrying_capacity -= 1\n",
    "        apples = 0\n",
    "    print(\"Transporting \"+str(carrying_capacity)+\" Apples\")\n",
    "    dest_apples= dest_apples + carrying_capacity\n",
    "    print(\"Apples at Destination \"+str(dest_apples))\n",
    "    print(\"Apples at Store \"+str(apples))\n",
    "    if apples > 0:\n",
    "        trips += 2\n",
    "        dest_apples= dest_apples - 1\n",
    "    else:\n",
    "        trips += 1\n",
    "    print(\"\\n\\n\")\n",
    "print(\"Total Trips: \"+str(trips))"
   ]
  },
  {
   "cell_type": "code",
   "execution_count": null,
   "id": "8afd21ea",
   "metadata": {},
   "outputs": [],
   "source": []
  }
 ],
 "metadata": {
  "kernelspec": {
   "display_name": "Python 3 (ipykernel)",
   "language": "python",
   "name": "python3"
  },
  "language_info": {
   "codemirror_mode": {
    "name": "ipython",
    "version": 3
   },
   "file_extension": ".py",
   "mimetype": "text/x-python",
   "name": "python",
   "nbconvert_exporter": "python",
   "pygments_lexer": "ipython3",
   "version": "3.9.16"
  }
 },
 "nbformat": 4,
 "nbformat_minor": 5
}
