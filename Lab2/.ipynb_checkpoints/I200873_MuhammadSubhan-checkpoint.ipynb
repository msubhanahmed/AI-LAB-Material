{
 "cells": [
  {
   "cell_type": "code",
   "execution_count": 3,
   "id": "716ab38f",
   "metadata": {},
   "outputs": [],
   "source": [
    "def Display():\n",
    "    print(\"Hello World\" , 20*3.5)"
   ]
  },
  {
   "cell_type": "code",
   "execution_count": 4,
   "id": "6d4591fa",
   "metadata": {},
   "outputs": [
    {
     "name": "stdout",
     "output_type": "stream",
     "text": [
      "Hello World 70.0\n"
     ]
    }
   ],
   "source": [
    "Display()"
   ]
  },
  {
   "cell_type": "code",
   "execution_count": 5,
   "id": "4aeb00cc",
   "metadata": {},
   "outputs": [],
   "source": [
    "def Test(var):\n",
    "    print(var+var)"
   ]
  },
  {
   "cell_type": "code",
   "execution_count": 6,
   "id": "d14257a6",
   "metadata": {},
   "outputs": [
    {
     "name": "stdout",
     "output_type": "stream",
     "text": [
      "40\n"
     ]
    }
   ],
   "source": [
    "Test(20)"
   ]
  },
  {
   "cell_type": "code",
   "execution_count": 7,
   "id": "51b88bf1",
   "metadata": {},
   "outputs": [
    {
     "name": "stdout",
     "output_type": "stream",
     "text": [
      "TextText\n"
     ]
    }
   ],
   "source": [
    "Test(\"Text\")"
   ]
  },
  {
   "cell_type": "code",
   "execution_count": 8,
   "id": "9ab58323",
   "metadata": {},
   "outputs": [],
   "source": [
    "def Test1():\n",
    "    return 10"
   ]
  },
  {
   "cell_type": "code",
   "execution_count": 9,
   "id": "25b93aed",
   "metadata": {},
   "outputs": [
    {
     "data": {
      "text/plain": [
       "10"
      ]
     },
     "execution_count": 9,
     "metadata": {},
     "output_type": "execute_result"
    }
   ],
   "source": [
    "Test1()"
   ]
  },
  {
   "cell_type": "code",
   "execution_count": 10,
   "id": "29bdef0d",
   "metadata": {},
   "outputs": [],
   "source": [
    "def Test2():\n",
    "    return 1,2.4,\"hello world\""
   ]
  },
  {
   "cell_type": "code",
   "execution_count": 11,
   "id": "6d71343c",
   "metadata": {},
   "outputs": [],
   "source": [
    "a,b,c = Test2()"
   ]
  },
  {
   "cell_type": "code",
   "execution_count": 13,
   "id": "95de067d",
   "metadata": {},
   "outputs": [
    {
     "data": {
      "text/plain": [
       "1"
      ]
     },
     "execution_count": 13,
     "metadata": {},
     "output_type": "execute_result"
    }
   ],
   "source": [
    "a"
   ]
  },
  {
   "cell_type": "code",
   "execution_count": 15,
   "id": "76478f49",
   "metadata": {},
   "outputs": [
    {
     "data": {
      "text/plain": [
       "2.4"
      ]
     },
     "execution_count": 15,
     "metadata": {},
     "output_type": "execute_result"
    }
   ],
   "source": [
    "b"
   ]
  },
  {
   "cell_type": "code",
   "execution_count": 16,
   "id": "3eec9426",
   "metadata": {},
   "outputs": [
    {
     "data": {
      "text/plain": [
       "'hello world'"
      ]
     },
     "execution_count": 16,
     "metadata": {},
     "output_type": "execute_result"
    }
   ],
   "source": [
    "c"
   ]
  },
  {
   "cell_type": "code",
   "execution_count": 17,
   "id": "1da7fb3a",
   "metadata": {},
   "outputs": [
    {
     "data": {
      "text/plain": [
       "(1, 2.4, 'hello world')"
      ]
     },
     "execution_count": 17,
     "metadata": {},
     "output_type": "execute_result"
    }
   ],
   "source": [
    "Test2()"
   ]
  },
  {
   "cell_type": "code",
   "execution_count": 53,
   "id": "95ece5eb",
   "metadata": {},
   "outputs": [],
   "source": [
    "class Student:\n",
    "    rollNumber =0\n",
    "    name = \"\"\n",
    "    def __init__(self):\n",
    "        print(\"Student Constructor\")\n",
    "    def setData(self):\n",
    "        self.rollNumber = int(input(\"Enter Roll Number\"))\n",
    "        self.name = input(\"Enter Your Name:\")\n",
    "    def getData(self):\n",
    "        print(\"Roll Number: \", self.rollNumber)\n",
    "        print(\"Name:\",self.name)\n",
    "    def power(self,base,exponent):\n",
    "        return base**exponent\n",
    "    "
   ]
  },
  {
   "cell_type": "code",
   "execution_count": 54,
   "id": "f2950140",
   "metadata": {},
   "outputs": [
    {
     "name": "stdout",
     "output_type": "stream",
     "text": [
      "Student Constructor\n"
     ]
    }
   ],
   "source": [
    "obj = Student()"
   ]
  },
  {
   "cell_type": "code",
   "execution_count": 55,
   "id": "596c8dee",
   "metadata": {},
   "outputs": [
    {
     "name": "stdout",
     "output_type": "stream",
     "text": [
      "Enter Roll Number200873\n",
      "Enter Your Name:Muhammad Subhan\n"
     ]
    }
   ],
   "source": [
    "obj.setData();"
   ]
  },
  {
   "cell_type": "code",
   "execution_count": 56,
   "id": "988fb4df",
   "metadata": {},
   "outputs": [
    {
     "name": "stdout",
     "output_type": "stream",
     "text": [
      "Roll Number:  200873\n",
      "Name: Muhammad Subhan\n"
     ]
    }
   ],
   "source": [
    "obj.getData();"
   ]
  },
  {
   "cell_type": "code",
   "execution_count": 57,
   "id": "9892c145",
   "metadata": {},
   "outputs": [
    {
     "data": {
      "text/plain": [
       "8"
      ]
     },
     "execution_count": 57,
     "metadata": {},
     "output_type": "execute_result"
    }
   ],
   "source": [
    "obj.power(2,3)"
   ]
  },
  {
   "cell_type": "code",
   "execution_count": 59,
   "id": "c9fdc5e4",
   "metadata": {},
   "outputs": [
    {
     "data": {
      "text/plain": [
       "[0, 1, 2, 3, 4, 5, 6, 7, 8, 9, 10]"
      ]
     },
     "execution_count": 59,
     "metadata": {},
     "output_type": "execute_result"
    }
   ],
   "source": [
    "aList = [value for value in range(11)]\n",
    "aList"
   ]
  },
  {
   "cell_type": "code",
   "execution_count": 2,
   "id": "2a78a909",
   "metadata": {},
   "outputs": [
    {
     "name": "stdout",
     "output_type": "stream",
     "text": [
      "Requirement already satisfied: numpy in c:\\users\\msa\\anaconda3\\lib\\site-packages (1.23.5)\n",
      "Note: you may need to restart the kernel to use updated packages.\n"
     ]
    }
   ],
   "source": [
    "!pip install numpy"
   ]
  },
  {
   "cell_type": "code",
   "execution_count": 2,
   "id": "2bee64cf",
   "metadata": {},
   "outputs": [],
   "source": [
    "import numpy as np"
   ]
  },
  {
   "cell_type": "code",
   "execution_count": 3,
   "id": "ee646390",
   "metadata": {},
   "outputs": [
    {
     "data": {
      "text/plain": [
       "array([1, 2, 3, 4])"
      ]
     },
     "execution_count": 3,
     "metadata": {},
     "output_type": "execute_result"
    }
   ],
   "source": [
    "# A Vector\n",
    "v = np.array([1,2,3,4])\n",
    "v"
   ]
  },
  {
   "cell_type": "code",
   "execution_count": 8,
   "id": "ca3ad402",
   "metadata": {},
   "outputs": [
    {
     "data": {
      "text/plain": [
       "array([[1, 2, 5],\n",
       "       [3, 4, 6],\n",
       "       [7, 8, 9]])"
      ]
     },
     "execution_count": 8,
     "metadata": {},
     "output_type": "execute_result"
    }
   ],
   "source": [
    "# A two dimensional Array\n",
    "M = np.array(\n",
    "    [\n",
    "        [1,2 ,5],\n",
    "        [3,4,6],\n",
    "        [7,8,9]\n",
    "    ])\n",
    "M"
   ]
  },
  {
   "cell_type": "code",
   "execution_count": 10,
   "id": "6eb07fae",
   "metadata": {},
   "outputs": [
    {
     "data": {
      "text/plain": [
       "(numpy.ndarray, numpy.ndarray)"
      ]
     },
     "execution_count": 10,
     "metadata": {},
     "output_type": "execute_result"
    }
   ],
   "source": [
    "type(v),type(M)"
   ]
  },
  {
   "cell_type": "code",
   "execution_count": 15,
   "id": "80076f0d",
   "metadata": {},
   "outputs": [
    {
     "name": "stdout",
     "output_type": "stream",
     "text": [
      "Vector's shape: (4,)\n",
      "Matrix's shape: (3, 3)\n"
     ]
    }
   ],
   "source": [
    "# Return Row * Columns  Dimensions of matrix or Vector\n",
    "print(\"Vector's shape:\",v.shape)\n",
    "print(\"Matrix's shape:\",M.shape)"
   ]
  },
  {
   "cell_type": "code",
   "execution_count": 16,
   "id": "55d2feb0",
   "metadata": {},
   "outputs": [
    {
     "name": "stdout",
     "output_type": "stream",
     "text": [
      "Vector's shape: (4,)\n",
      "Matrix's shape: (3, 3)\n"
     ]
    }
   ],
   "source": [
    "print(\"Vector's shape:\",np.shape(v))\n",
    "print(\"Matrix's shape:\",np.shape(M))"
   ]
  },
  {
   "cell_type": "code",
   "execution_count": 17,
   "id": "444eed23",
   "metadata": {},
   "outputs": [
    {
     "name": "stdout",
     "output_type": "stream",
     "text": [
      "Vector's Size:  4\n",
      "Marix's size:  9\n"
     ]
    }
   ],
   "source": [
    "print(\"Vector's Size: \",v.size)\n",
    "print(\"Marix's size: \",M.size)"
   ]
  },
  {
   "cell_type": "code",
   "execution_count": 19,
   "id": "961af022",
   "metadata": {},
   "outputs": [
    {
     "name": "stdout",
     "output_type": "stream",
     "text": [
      "Vector's Size:  4\n",
      "Marix's size:  9\n"
     ]
    }
   ],
   "source": [
    "print(\"Vector's Size: \",np.size(v))\n",
    "print(\"Marix's size: \",np.size(M))"
   ]
  },
  {
   "cell_type": "code",
   "execution_count": 22,
   "id": "19399f12",
   "metadata": {},
   "outputs": [
    {
     "name": "stdout",
     "output_type": "stream",
     "text": [
      "Vector's Type:  int32\n",
      "Marix's Type:  int32\n"
     ]
    }
   ],
   "source": [
    "print(\"Vector's Type: \",v.dtype)\n",
    "print(\"Marix's Type: \",M.dtype)"
   ]
  },
  {
   "cell_type": "code",
   "execution_count": 24,
   "id": "338fa0f9",
   "metadata": {},
   "outputs": [
    {
     "name": "stdout",
     "output_type": "stream",
     "text": [
      "Vector After\n",
      " [371   2   3   4]\n",
      "Matrix After\n",
      " [[371   2   5]\n",
      " [  3   4   6]\n",
      " [  7   8   9]]\n"
     ]
    }
   ],
   "source": [
    "v[0]= 371\n",
    "M[0][0]= 371\n",
    "print(\"Vector After\\n\",v)\n",
    "print(\"Matrix After\\n\",M)"
   ]
  },
  {
   "cell_type": "code",
   "execution_count": 25,
   "id": "82fab595",
   "metadata": {},
   "outputs": [
    {
     "ename": "ValueError",
     "evalue": "invalid literal for int() with base 10: 'Hello'",
     "output_type": "error",
     "traceback": [
      "\u001b[1;31m---------------------------------------------------------------------------\u001b[0m",
      "\u001b[1;31mValueError\u001b[0m                                Traceback (most recent call last)",
      "\u001b[1;32m~\\AppData\\Local\\Temp\\ipykernel_2652\\3263534757.py\u001b[0m in \u001b[0;36m<module>\u001b[1;34m\u001b[0m\n\u001b[0;32m      1\u001b[0m \u001b[1;31m# Can't Store String value in numpy\u001b[0m\u001b[1;33m\u001b[0m\u001b[1;33m\u001b[0m\u001b[0m\n\u001b[1;32m----> 2\u001b[1;33m \u001b[0mM\u001b[0m\u001b[1;33m[\u001b[0m\u001b[1;36m0\u001b[0m\u001b[1;33m]\u001b[0m\u001b[1;33m[\u001b[0m\u001b[1;36m0\u001b[0m\u001b[1;33m]\u001b[0m \u001b[1;33m=\u001b[0m \u001b[1;34m\"Hello\"\u001b[0m\u001b[1;33m\u001b[0m\u001b[1;33m\u001b[0m\u001b[0m\n\u001b[0m",
      "\u001b[1;31mValueError\u001b[0m: invalid literal for int() with base 10: 'Hello'"
     ]
    }
   ],
   "source": [
    "# Can't Store String value in numpy\n",
    "M[0][0] = \"Hello\""
   ]
  },
  {
   "cell_type": "code",
   "execution_count": 29,
   "id": "d4cad50a",
   "metadata": {},
   "outputs": [
    {
     "name": "stdout",
     "output_type": "stream",
     "text": [
      "Matrix: \n",
      " [[1.+0.j 2.+0.j 5.+0.j]\n",
      " [3.+0.j 4.+0.j 6.+0.j]\n",
      " [7.+0.j 8.+0.j 9.+0.j]]\n",
      "Matrix Type: complex128\n"
     ]
    }
   ],
   "source": [
    "# A two dimensional Array\n",
    "M = np.array(\n",
    "    [\n",
    "        [1,2 ,5],\n",
    "        [3,4,6],\n",
    "        [7,8,9]\n",
    "    ],dtype=complex)\n",
    "print(\"Matrix: \\n\",M)\n",
    "print(\"Matrix Type:\",M.dtype)"
   ]
  },
  {
   "cell_type": "code",
   "execution_count": 30,
   "id": "02cad4d8",
   "metadata": {},
   "outputs": [
    {
     "name": "stdout",
     "output_type": "stream",
     "text": [
      "Matrix: \n",
      " [[1 2 5]\n",
      " [3 4 6]\n",
      " [7 8 9]]\n",
      "Matrix Type: int16\n"
     ]
    }
   ],
   "source": [
    "# A two dimensional Array\n",
    "H = np.array(\n",
    "    [\n",
    "        [1,2 ,5],\n",
    "        [3,4,6],\n",
    "        [7,8,9]\n",
    "    ],dtype='int16')\n",
    "print(\"Matrix: \\n\",H)\n",
    "print(\"Matrix Type:\",H.dtype)"
   ]
  },
  {
   "cell_type": "code",
   "execution_count": 32,
   "id": "8296a903",
   "metadata": {},
   "outputs": [
    {
     "data": {
      "text/plain": [
       "array([0, 2, 4, 6, 8])"
      ]
     },
     "execution_count": 32,
     "metadata": {},
     "output_type": "execute_result"
    }
   ],
   "source": [
    "#create a range\n",
    "I = np.arange(0,10,2)\n",
    "I"
   ]
  },
  {
   "cell_type": "code",
   "execution_count": 33,
   "id": "b9541251",
   "metadata": {},
   "outputs": [
    {
     "data": {
      "text/plain": [
       "array([-1.00000000e+00, -9.00000000e-01, -8.00000000e-01, -7.00000000e-01,\n",
       "       -6.00000000e-01, -5.00000000e-01, -4.00000000e-01, -3.00000000e-01,\n",
       "       -2.00000000e-01, -1.00000000e-01, -2.22044605e-16,  1.00000000e-01,\n",
       "        2.00000000e-01,  3.00000000e-01,  4.00000000e-01,  5.00000000e-01,\n",
       "        6.00000000e-01,  7.00000000e-01,  8.00000000e-01,  9.00000000e-01])"
      ]
     },
     "execution_count": 33,
     "metadata": {},
     "output_type": "execute_result"
    }
   ],
   "source": [
    "I = np.arange(-1,1,0.1)\n",
    "I"
   ]
  },
  {
   "cell_type": "code",
   "execution_count": 35,
   "id": "48ff6743",
   "metadata": {},
   "outputs": [
    {
     "data": {
      "text/plain": [
       "array([ 0.        ,  0.20408163,  0.40816327,  0.6122449 ,  0.81632653,\n",
       "        1.02040816,  1.2244898 ,  1.42857143,  1.63265306,  1.83673469,\n",
       "        2.04081633,  2.24489796,  2.44897959,  2.65306122,  2.85714286,\n",
       "        3.06122449,  3.26530612,  3.46938776,  3.67346939,  3.87755102,\n",
       "        4.08163265,  4.28571429,  4.48979592,  4.69387755,  4.89795918,\n",
       "        5.10204082,  5.30612245,  5.51020408,  5.71428571,  5.91836735,\n",
       "        6.12244898,  6.32653061,  6.53061224,  6.73469388,  6.93877551,\n",
       "        7.14285714,  7.34693878,  7.55102041,  7.75510204,  7.95918367,\n",
       "        8.16326531,  8.36734694,  8.57142857,  8.7755102 ,  8.97959184,\n",
       "        9.18367347,  9.3877551 ,  9.59183673,  9.79591837, 10.        ])"
      ]
     },
     "execution_count": 35,
     "metadata": {},
     "output_type": "execute_result"
    }
   ],
   "source": [
    "# using linspace \n",
    "# generate 50 values between 0 and 10 inclusive that are evenly apart\n",
    "p = np.linspace(0,10,50)\n",
    "p"
   ]
  },
  {
   "cell_type": "code",
   "execution_count": 40,
   "id": "3beaafe6",
   "metadata": {},
   "outputs": [
    {
     "data": {
      "text/plain": [
       "array([[0.96637939, 0.53989762, 0.00173935, 0.339803  , 0.81756313],\n",
       "       [0.91428695, 0.36256483, 0.02383952, 0.16749135, 0.37520363],\n",
       "       [0.76247312, 0.10323323, 0.17194383, 0.84974817, 0.67723609],\n",
       "       [0.46816341, 0.67697866, 0.76059656, 0.33468298, 0.79822758],\n",
       "       [0.41197248, 0.76538115, 0.55026126, 0.16491963, 0.19718059]])"
      ]
     },
     "execution_count": 40,
     "metadata": {},
     "output_type": "execute_result"
    }
   ],
   "source": [
    "from numpy import random\n",
    "v = random.rand(5,5)\n",
    "v"
   ]
  },
  {
   "cell_type": "code",
   "execution_count": 42,
   "id": "b5ab06f1",
   "metadata": {},
   "outputs": [
    {
     "data": {
      "text/plain": [
       "array([[1, 0, 0, 0, 0, 0, 0, 0, 0],\n",
       "       [0, 2, 0, 0, 0, 0, 0, 0, 0],\n",
       "       [0, 0, 3, 0, 0, 0, 0, 0, 0],\n",
       "       [0, 0, 0, 4, 0, 0, 0, 0, 0],\n",
       "       [0, 0, 0, 0, 5, 0, 0, 0, 0],\n",
       "       [0, 0, 0, 0, 0, 6, 0, 0, 0],\n",
       "       [0, 0, 0, 0, 0, 0, 7, 0, 0],\n",
       "       [0, 0, 0, 0, 0, 0, 0, 8, 0],\n",
       "       [0, 0, 0, 0, 0, 0, 0, 0, 9]])"
      ]
     },
     "execution_count": 42,
     "metadata": {},
     "output_type": "execute_result"
    }
   ],
   "source": [
    "np.diag([1,2,3,4,5,6,7,8,9])"
   ]
  },
  {
   "cell_type": "code",
   "execution_count": 44,
   "id": "c837408c",
   "metadata": {},
   "outputs": [
    {
     "name": "stdout",
     "output_type": "stream",
     "text": [
      "[[0 0 0 0 0]\n",
      " [1 0 0 0 0]\n",
      " [0 2 0 0 0]\n",
      " [0 0 3 0 0]\n",
      " [0 0 0 4 0]]\n",
      "[[0 1 0 0 0]\n",
      " [0 0 2 0 0]\n",
      " [0 0 0 3 0]\n",
      " [0 0 0 0 4]\n",
      " [0 0 0 0 0]]\n",
      "[[0 0 1 0 0 0]\n",
      " [0 0 0 2 0 0]\n",
      " [0 0 0 0 3 0]\n",
      " [0 0 0 0 0 4]\n",
      " [0 0 0 0 0 0]\n",
      " [0 0 0 0 0 0]]\n"
     ]
    }
   ],
   "source": [
    "print(np.diag([1,2,3,4], k=-1))\n",
    "print(np.diag([1,2,3,4], k=+1))\n",
    "print(np.diag([1,2,3,4], k=+2))"
   ]
  },
  {
   "cell_type": "code",
   "execution_count": 46,
   "id": "b7dde664",
   "metadata": {},
   "outputs": [
    {
     "name": "stdout",
     "output_type": "stream",
     "text": [
      "Main Diagnol Elements:\n",
      " [1 4 9]\n",
      "\n",
      "Diagnol above main diagnol:\n",
      " [2 6]\n",
      "\n",
      "Diagnol below main diagnol:\n",
      " [3 8]\n"
     ]
    }
   ],
   "source": [
    "# A two dimensional Array\n",
    "M = np.array(\n",
    "    [\n",
    "        [1,2 ,5],\n",
    "        [3,4,6],\n",
    "        [7,8,9]\n",
    "    ])\n",
    "print(\"Main Diagnol Elements:\\n\", np.diag(M));\n",
    "print(\"\\nDiagnol above main diagnol:\\n\",np.diag(M,+1))\n",
    "print(\"\\nDiagnol below main diagnol:\\n\",np.diag(M,-1))"
   ]
  },
  {
   "cell_type": "code",
   "execution_count": 50,
   "id": "fdf7cae9",
   "metadata": {},
   "outputs": [
    {
     "name": "stdout",
     "output_type": "stream",
     "text": [
      "[[1 2 5]\n",
      " [3 4 6]\n",
      " [7 8 9]]\n",
      "Right Diagnol Elements: \n",
      " [5 4 7]\n",
      "Right Diagnol Elements: \n",
      " [6 8]\n",
      "Right Diagnol Elements: \n",
      " [2 3]\n"
     ]
    }
   ],
   "source": [
    "print(M)\n",
    "print(\"Right Diagnol Elements: \\n\" , np.diag(np.fliplr(M)))\n",
    "print(\"Right Diagnol Elements: \\n\" , np.diag(np.fliplr(M) , -1))\n",
    "print(\"Right Diagnol Elements: \\n\" , np.diag(np.fliplr(M) , +1))"
   ]
  },
  {
   "cell_type": "code",
   "execution_count": 51,
   "id": "3c918d1e",
   "metadata": {},
   "outputs": [
    {
     "data": {
      "text/plain": [
       "array([[0., 0., 0.],\n",
       "       [0., 0., 0.],\n",
       "       [0., 0., 0.],\n",
       "       [0., 0., 0.],\n",
       "       [0., 0., 0.],\n",
       "       [0., 0., 0.]])"
      ]
     },
     "execution_count": 51,
     "metadata": {},
     "output_type": "execute_result"
    }
   ],
   "source": [
    "M = np.zeros((6,3))\n",
    "M"
   ]
  },
  {
   "cell_type": "code",
   "execution_count": 53,
   "id": "2938a3f3",
   "metadata": {},
   "outputs": [
    {
     "data": {
      "text/plain": [
       "array([[1., 1., 1., 1.],\n",
       "       [1., 1., 1., 1.],\n",
       "       [1., 1., 1., 1.],\n",
       "       [1., 1., 1., 1.],\n",
       "       [1., 1., 1., 1.],\n",
       "       [1., 1., 1., 1.],\n",
       "       [1., 1., 1., 1.],\n",
       "       [1., 1., 1., 1.]])"
      ]
     },
     "execution_count": 53,
     "metadata": {},
     "output_type": "execute_result"
    }
   ],
   "source": [
    "M = np.ones((8,4))\n",
    "M"
   ]
  },
  {
   "cell_type": "code",
   "execution_count": 54,
   "id": "32cbbe4d",
   "metadata": {},
   "outputs": [
    {
     "data": {
      "text/plain": [
       "array([[      nan,       nan],\n",
       "       [8.920e+02, 0.000e+00],\n",
       "       [8.930e+02, 0.000e+00],\n",
       "       [8.940e+02, 0.000e+00],\n",
       "       [8.950e+02, 0.000e+00],\n",
       "       [8.960e+02, 1.000e+00],\n",
       "       [8.970e+02, 0.000e+00],\n",
       "       [8.980e+02, 1.000e+00],\n",
       "       [8.990e+02, 0.000e+00],\n",
       "       [9.000e+02, 1.000e+00],\n",
       "       [9.010e+02, 0.000e+00],\n",
       "       [9.020e+02, 0.000e+00],\n",
       "       [9.030e+02, 1.000e+00],\n",
       "       [9.040e+02, 1.000e+00],\n",
       "       [9.050e+02, 0.000e+00],\n",
       "       [9.060e+02, 1.000e+00],\n",
       "       [9.070e+02, 1.000e+00],\n",
       "       [9.080e+02, 0.000e+00],\n",
       "       [9.090e+02, 0.000e+00],\n",
       "       [9.100e+02, 0.000e+00],\n",
       "       [9.110e+02, 0.000e+00],\n",
       "       [9.120e+02, 0.000e+00],\n",
       "       [9.130e+02, 0.000e+00],\n",
       "       [9.140e+02, 1.000e+00],\n",
       "       [9.150e+02, 1.000e+00],\n",
       "       [9.160e+02, 1.000e+00],\n",
       "       [9.170e+02, 0.000e+00],\n",
       "       [9.180e+02, 1.000e+00],\n",
       "       [9.190e+02, 0.000e+00],\n",
       "       [9.200e+02, 1.000e+00],\n",
       "       [9.210e+02, 0.000e+00],\n",
       "       [9.220e+02, 0.000e+00],\n",
       "       [9.230e+02, 0.000e+00],\n",
       "       [9.240e+02, 1.000e+00],\n",
       "       [9.250e+02, 0.000e+00],\n",
       "       [9.260e+02, 1.000e+00],\n",
       "       [9.270e+02, 0.000e+00],\n",
       "       [9.280e+02, 0.000e+00],\n",
       "       [9.290e+02, 0.000e+00],\n",
       "       [9.300e+02, 0.000e+00],\n",
       "       [9.310e+02, 0.000e+00],\n",
       "       [9.320e+02, 0.000e+00],\n",
       "       [9.330e+02, 1.000e+00],\n",
       "       [9.340e+02, 0.000e+00],\n",
       "       [9.350e+02, 1.000e+00],\n",
       "       [9.360e+02, 1.000e+00],\n",
       "       [9.370e+02, 0.000e+00],\n",
       "       [9.380e+02, 0.000e+00],\n",
       "       [9.390e+02, 0.000e+00],\n",
       "       [9.400e+02, 1.000e+00],\n",
       "       [9.410e+02, 1.000e+00],\n",
       "       [9.420e+02, 0.000e+00],\n",
       "       [9.430e+02, 0.000e+00],\n",
       "       [9.440e+02, 1.000e+00],\n",
       "       [9.450e+02, 1.000e+00],\n",
       "       [9.460e+02, 0.000e+00],\n",
       "       [9.470e+02, 0.000e+00],\n",
       "       [9.480e+02, 0.000e+00],\n",
       "       [9.490e+02, 0.000e+00],\n",
       "       [9.500e+02, 0.000e+00],\n",
       "       [9.510e+02, 1.000e+00],\n",
       "       [9.520e+02, 0.000e+00],\n",
       "       [9.530e+02, 1.000e+00],\n",
       "       [9.540e+02, 0.000e+00],\n",
       "       [9.550e+02, 1.000e+00],\n",
       "       [9.560e+02, 1.000e+00],\n",
       "       [9.570e+02, 1.000e+00],\n",
       "       [9.580e+02, 1.000e+00],\n",
       "       [9.590e+02, 0.000e+00],\n",
       "       [9.600e+02, 0.000e+00],\n",
       "       [9.610e+02, 1.000e+00],\n",
       "       [9.620e+02, 1.000e+00],\n",
       "       [9.630e+02, 0.000e+00],\n",
       "       [9.640e+02, 0.000e+00],\n",
       "       [9.650e+02, 0.000e+00],\n",
       "       [9.660e+02, 1.000e+00],\n",
       "       [9.670e+02, 0.000e+00],\n",
       "       [9.680e+02, 0.000e+00],\n",
       "       [9.690e+02, 1.000e+00],\n",
       "       [9.700e+02, 0.000e+00],\n",
       "       [9.710e+02, 1.000e+00],\n",
       "       [9.720e+02, 1.000e+00],\n",
       "       [9.730e+02, 0.000e+00],\n",
       "       [9.740e+02, 1.000e+00],\n",
       "       [9.750e+02, 0.000e+00],\n",
       "       [9.760e+02, 0.000e+00],\n",
       "       [9.770e+02, 0.000e+00],\n",
       "       [9.780e+02, 1.000e+00],\n",
       "       [9.790e+02, 0.000e+00],\n",
       "       [9.800e+02, 1.000e+00],\n",
       "       [9.810e+02, 1.000e+00],\n",
       "       [9.820e+02, 1.000e+00],\n",
       "       [9.830e+02, 0.000e+00],\n",
       "       [9.840e+02, 1.000e+00],\n",
       "       [9.850e+02, 0.000e+00],\n",
       "       [9.860e+02, 1.000e+00],\n",
       "       [9.870e+02, 0.000e+00],\n",
       "       [9.880e+02, 1.000e+00],\n",
       "       [9.890e+02, 0.000e+00],\n",
       "       [9.900e+02, 1.000e+00],\n",
       "       [9.910e+02, 0.000e+00],\n",
       "       [9.920e+02, 1.000e+00],\n",
       "       [9.930e+02, 0.000e+00],\n",
       "       [9.940e+02, 0.000e+00],\n",
       "       [9.950e+02, 0.000e+00],\n",
       "       [9.960e+02, 1.000e+00],\n",
       "       [9.970e+02, 0.000e+00],\n",
       "       [9.980e+02, 0.000e+00],\n",
       "       [9.990e+02, 0.000e+00],\n",
       "       [1.000e+03, 0.000e+00],\n",
       "       [1.001e+03, 0.000e+00],\n",
       "       [1.002e+03, 0.000e+00],\n",
       "       [1.003e+03, 0.000e+00],\n",
       "       [1.004e+03, 1.000e+00],\n",
       "       [1.005e+03, 1.000e+00],\n",
       "       [1.006e+03, 1.000e+00],\n",
       "       [1.007e+03, 0.000e+00],\n",
       "       [1.008e+03, 0.000e+00],\n",
       "       [1.009e+03, 1.000e+00],\n",
       "       [1.010e+03, 0.000e+00],\n",
       "       [1.011e+03, 1.000e+00],\n",
       "       [1.012e+03, 1.000e+00],\n",
       "       [1.013e+03, 0.000e+00],\n",
       "       [1.014e+03, 1.000e+00],\n",
       "       [1.015e+03, 0.000e+00],\n",
       "       [1.016e+03, 0.000e+00],\n",
       "       [1.017e+03, 0.000e+00],\n",
       "       [1.018e+03, 0.000e+00],\n",
       "       [1.019e+03, 1.000e+00],\n",
       "       [1.020e+03, 0.000e+00],\n",
       "       [1.021e+03, 0.000e+00],\n",
       "       [1.022e+03, 0.000e+00],\n",
       "       [1.023e+03, 0.000e+00],\n",
       "       [1.024e+03, 0.000e+00],\n",
       "       [1.025e+03, 0.000e+00],\n",
       "       [1.026e+03, 0.000e+00],\n",
       "       [1.027e+03, 0.000e+00],\n",
       "       [1.028e+03, 0.000e+00],\n",
       "       [1.029e+03, 0.000e+00],\n",
       "       [1.030e+03, 0.000e+00],\n",
       "       [1.031e+03, 0.000e+00],\n",
       "       [1.032e+03, 0.000e+00],\n",
       "       [1.033e+03, 1.000e+00],\n",
       "       [1.034e+03, 0.000e+00],\n",
       "       [1.035e+03, 0.000e+00],\n",
       "       [1.036e+03, 1.000e+00],\n",
       "       [1.037e+03, 0.000e+00],\n",
       "       [1.038e+03, 0.000e+00],\n",
       "       [1.039e+03, 0.000e+00],\n",
       "       [1.040e+03, 1.000e+00],\n",
       "       [1.041e+03, 0.000e+00],\n",
       "       [1.042e+03, 1.000e+00],\n",
       "       [1.043e+03, 0.000e+00],\n",
       "       [1.044e+03, 0.000e+00],\n",
       "       [1.045e+03, 1.000e+00],\n",
       "       [1.046e+03, 0.000e+00],\n",
       "       [1.047e+03, 0.000e+00],\n",
       "       [1.048e+03, 1.000e+00],\n",
       "       [1.049e+03, 1.000e+00],\n",
       "       [1.050e+03, 1.000e+00],\n",
       "       [1.051e+03, 1.000e+00],\n",
       "       [1.052e+03, 1.000e+00],\n",
       "       [1.053e+03, 1.000e+00],\n",
       "       [1.054e+03, 1.000e+00],\n",
       "       [1.055e+03, 0.000e+00],\n",
       "       [1.056e+03, 0.000e+00],\n",
       "       [1.057e+03, 0.000e+00],\n",
       "       [1.058e+03, 0.000e+00],\n",
       "       [1.059e+03, 0.000e+00],\n",
       "       [1.060e+03, 1.000e+00],\n",
       "       [1.061e+03, 0.000e+00],\n",
       "       [1.062e+03, 0.000e+00],\n",
       "       [1.063e+03, 0.000e+00],\n",
       "       [1.064e+03, 0.000e+00],\n",
       "       [1.065e+03, 0.000e+00],\n",
       "       [1.066e+03, 0.000e+00],\n",
       "       [1.067e+03, 1.000e+00],\n",
       "       [1.068e+03, 1.000e+00],\n",
       "       [1.069e+03, 0.000e+00],\n",
       "       [1.070e+03, 1.000e+00],\n",
       "       [1.071e+03, 1.000e+00],\n",
       "       [1.072e+03, 0.000e+00],\n",
       "       [1.073e+03, 0.000e+00],\n",
       "       [1.074e+03, 1.000e+00],\n",
       "       [1.075e+03, 0.000e+00],\n",
       "       [1.076e+03, 1.000e+00],\n",
       "       [1.077e+03, 0.000e+00],\n",
       "       [1.078e+03, 1.000e+00],\n",
       "       [1.079e+03, 0.000e+00],\n",
       "       [1.080e+03, 0.000e+00],\n",
       "       [1.081e+03, 0.000e+00],\n",
       "       [1.082e+03, 0.000e+00],\n",
       "       [1.083e+03, 1.000e+00],\n",
       "       [1.084e+03, 1.000e+00],\n",
       "       [1.085e+03, 0.000e+00],\n",
       "       [1.086e+03, 1.000e+00],\n",
       "       [1.087e+03, 0.000e+00],\n",
       "       [1.088e+03, 1.000e+00],\n",
       "       [1.089e+03, 1.000e+00],\n",
       "       [1.090e+03, 0.000e+00],\n",
       "       [1.091e+03, 0.000e+00],\n",
       "       [1.092e+03, 1.000e+00],\n",
       "       [1.093e+03, 1.000e+00],\n",
       "       [1.094e+03, 0.000e+00],\n",
       "       [1.095e+03, 1.000e+00],\n",
       "       [1.096e+03, 0.000e+00],\n",
       "       [1.097e+03, 0.000e+00],\n",
       "       [1.098e+03, 1.000e+00],\n",
       "       [1.099e+03, 0.000e+00],\n",
       "       [1.100e+03, 1.000e+00],\n",
       "       [1.101e+03, 0.000e+00],\n",
       "       [1.102e+03, 0.000e+00],\n",
       "       [1.103e+03, 0.000e+00],\n",
       "       [1.104e+03, 0.000e+00],\n",
       "       [1.105e+03, 1.000e+00],\n",
       "       [1.106e+03, 0.000e+00],\n",
       "       [1.107e+03, 0.000e+00],\n",
       "       [1.108e+03, 1.000e+00],\n",
       "       [1.109e+03, 0.000e+00],\n",
       "       [1.110e+03, 1.000e+00],\n",
       "       [1.111e+03, 0.000e+00],\n",
       "       [1.112e+03, 1.000e+00],\n",
       "       [1.113e+03, 0.000e+00],\n",
       "       [1.114e+03, 1.000e+00],\n",
       "       [1.115e+03, 0.000e+00],\n",
       "       [1.116e+03, 1.000e+00],\n",
       "       [1.117e+03, 1.000e+00],\n",
       "       [1.118e+03, 0.000e+00],\n",
       "       [1.119e+03, 1.000e+00],\n",
       "       [1.120e+03, 0.000e+00],\n",
       "       [1.121e+03, 0.000e+00],\n",
       "       [1.122e+03, 0.000e+00],\n",
       "       [1.123e+03, 1.000e+00],\n",
       "       [1.124e+03, 0.000e+00],\n",
       "       [1.125e+03, 1.000e+00],\n",
       "       [1.126e+03, 1.000e+00],\n",
       "       [1.127e+03, 0.000e+00],\n",
       "       [1.128e+03, 0.000e+00],\n",
       "       [1.129e+03, 1.000e+00],\n",
       "       [1.130e+03, 1.000e+00],\n",
       "       [1.131e+03, 1.000e+00],\n",
       "       [1.132e+03, 1.000e+00],\n",
       "       [1.133e+03, 1.000e+00],\n",
       "       [1.134e+03, 0.000e+00],\n",
       "       [1.135e+03, 0.000e+00],\n",
       "       [1.136e+03, 0.000e+00],\n",
       "       [1.137e+03, 0.000e+00],\n",
       "       [1.138e+03, 1.000e+00],\n",
       "       [1.139e+03, 0.000e+00],\n",
       "       [1.140e+03, 1.000e+00],\n",
       "       [1.141e+03, 1.000e+00],\n",
       "       [1.142e+03, 1.000e+00],\n",
       "       [1.143e+03, 0.000e+00],\n",
       "       [1.144e+03, 0.000e+00],\n",
       "       [1.145e+03, 0.000e+00],\n",
       "       [1.146e+03, 0.000e+00],\n",
       "       [1.147e+03, 0.000e+00],\n",
       "       [1.148e+03, 1.000e+00],\n",
       "       [1.149e+03, 0.000e+00],\n",
       "       [1.150e+03, 1.000e+00],\n",
       "       [1.151e+03, 0.000e+00],\n",
       "       [1.152e+03, 0.000e+00],\n",
       "       [1.153e+03, 0.000e+00],\n",
       "       [1.154e+03, 1.000e+00],\n",
       "       [1.155e+03, 1.000e+00],\n",
       "       [1.156e+03, 0.000e+00],\n",
       "       [1.157e+03, 0.000e+00],\n",
       "       [1.158e+03, 0.000e+00],\n",
       "       [1.159e+03, 0.000e+00],\n",
       "       [1.160e+03, 1.000e+00],\n",
       "       [1.161e+03, 0.000e+00],\n",
       "       [1.162e+03, 0.000e+00],\n",
       "       [1.163e+03, 0.000e+00],\n",
       "       [1.164e+03, 1.000e+00],\n",
       "       [1.165e+03, 1.000e+00],\n",
       "       [1.166e+03, 0.000e+00],\n",
       "       [1.167e+03, 1.000e+00],\n",
       "       [1.168e+03, 0.000e+00],\n",
       "       [1.169e+03, 0.000e+00],\n",
       "       [1.170e+03, 0.000e+00],\n",
       "       [1.171e+03, 0.000e+00],\n",
       "       [1.172e+03, 0.000e+00],\n",
       "       [1.173e+03, 1.000e+00],\n",
       "       [1.174e+03, 1.000e+00],\n",
       "       [1.175e+03, 0.000e+00],\n",
       "       [1.176e+03, 1.000e+00],\n",
       "       [1.177e+03, 0.000e+00],\n",
       "       [1.178e+03, 0.000e+00],\n",
       "       [1.179e+03, 0.000e+00],\n",
       "       [1.180e+03, 0.000e+00],\n",
       "       [1.181e+03, 0.000e+00],\n",
       "       [1.182e+03, 0.000e+00],\n",
       "       [1.183e+03, 0.000e+00],\n",
       "       [1.184e+03, 0.000e+00],\n",
       "       [1.185e+03, 0.000e+00],\n",
       "       [1.186e+03, 0.000e+00],\n",
       "       [1.187e+03, 0.000e+00],\n",
       "       [1.188e+03, 1.000e+00],\n",
       "       [1.189e+03, 1.000e+00],\n",
       "       [1.190e+03, 0.000e+00],\n",
       "       [1.191e+03, 0.000e+00],\n",
       "       [1.192e+03, 0.000e+00],\n",
       "       [1.193e+03, 0.000e+00],\n",
       "       [1.194e+03, 0.000e+00],\n",
       "       [1.195e+03, 0.000e+00],\n",
       "       [1.196e+03, 0.000e+00],\n",
       "       [1.197e+03, 1.000e+00],\n",
       "       [1.198e+03, 0.000e+00],\n",
       "       [1.199e+03, 1.000e+00],\n",
       "       [1.200e+03, 0.000e+00],\n",
       "       [1.201e+03, 0.000e+00],\n",
       "       [1.202e+03, 0.000e+00],\n",
       "       [1.203e+03, 0.000e+00],\n",
       "       [1.204e+03, 0.000e+00],\n",
       "       [1.205e+03, 1.000e+00],\n",
       "       [1.206e+03, 1.000e+00],\n",
       "       [1.207e+03, 1.000e+00],\n",
       "       [1.208e+03, 0.000e+00],\n",
       "       [1.209e+03, 0.000e+00],\n",
       "       [1.210e+03, 0.000e+00],\n",
       "       [1.211e+03, 0.000e+00],\n",
       "       [1.212e+03, 0.000e+00],\n",
       "       [1.213e+03, 0.000e+00],\n",
       "       [1.214e+03, 0.000e+00],\n",
       "       [1.215e+03, 0.000e+00],\n",
       "       [1.216e+03, 1.000e+00],\n",
       "       [1.217e+03, 0.000e+00],\n",
       "       [1.218e+03, 1.000e+00],\n",
       "       [1.219e+03, 0.000e+00],\n",
       "       [1.220e+03, 0.000e+00],\n",
       "       [1.221e+03, 0.000e+00],\n",
       "       [1.222e+03, 1.000e+00],\n",
       "       [1.223e+03, 0.000e+00],\n",
       "       [1.224e+03, 0.000e+00],\n",
       "       [1.225e+03, 0.000e+00],\n",
       "       [1.226e+03, 0.000e+00],\n",
       "       [1.227e+03, 0.000e+00],\n",
       "       [1.228e+03, 1.000e+00],\n",
       "       [1.229e+03, 0.000e+00],\n",
       "       [1.230e+03, 0.000e+00],\n",
       "       [1.231e+03, 0.000e+00],\n",
       "       [1.232e+03, 0.000e+00],\n",
       "       [1.233e+03, 0.000e+00],\n",
       "       [1.234e+03, 0.000e+00],\n",
       "       [1.235e+03, 1.000e+00],\n",
       "       [1.236e+03, 0.000e+00],\n",
       "       [1.237e+03, 1.000e+00],\n",
       "       [1.238e+03, 0.000e+00],\n",
       "       [1.239e+03, 1.000e+00],\n",
       "       [1.240e+03, 0.000e+00],\n",
       "       [1.241e+03, 1.000e+00],\n",
       "       [1.242e+03, 1.000e+00],\n",
       "       [1.243e+03, 0.000e+00],\n",
       "       [1.244e+03, 0.000e+00],\n",
       "       [1.245e+03, 0.000e+00],\n",
       "       [1.246e+03, 1.000e+00],\n",
       "       [1.247e+03, 1.000e+00],\n",
       "       [1.248e+03, 1.000e+00],\n",
       "       [1.249e+03, 0.000e+00],\n",
       "       [1.250e+03, 0.000e+00],\n",
       "       [1.251e+03, 0.000e+00],\n",
       "       [1.252e+03, 0.000e+00],\n",
       "       [1.253e+03, 1.000e+00],\n",
       "       [1.254e+03, 1.000e+00],\n",
       "       [1.255e+03, 0.000e+00],\n",
       "       [1.256e+03, 1.000e+00],\n",
       "       [1.257e+03, 0.000e+00],\n",
       "       [1.258e+03, 0.000e+00],\n",
       "       [1.259e+03, 0.000e+00],\n",
       "       [1.260e+03, 1.000e+00],\n",
       "       [1.261e+03, 0.000e+00],\n",
       "       [1.262e+03, 0.000e+00],\n",
       "       [1.263e+03, 1.000e+00],\n",
       "       [1.264e+03, 0.000e+00],\n",
       "       [1.265e+03, 0.000e+00],\n",
       "       [1.266e+03, 1.000e+00],\n",
       "       [1.267e+03, 1.000e+00],\n",
       "       [1.268e+03, 0.000e+00],\n",
       "       [1.269e+03, 0.000e+00],\n",
       "       [1.270e+03, 0.000e+00],\n",
       "       [1.271e+03, 1.000e+00],\n",
       "       [1.272e+03, 0.000e+00],\n",
       "       [1.273e+03, 0.000e+00],\n",
       "       [1.274e+03, 0.000e+00],\n",
       "       [1.275e+03, 1.000e+00],\n",
       "       [1.276e+03, 0.000e+00],\n",
       "       [1.277e+03, 1.000e+00],\n",
       "       [1.278e+03, 0.000e+00],\n",
       "       [1.279e+03, 0.000e+00],\n",
       "       [1.280e+03, 0.000e+00],\n",
       "       [1.281e+03, 0.000e+00],\n",
       "       [1.282e+03, 0.000e+00],\n",
       "       [1.283e+03, 1.000e+00],\n",
       "       [1.284e+03, 1.000e+00],\n",
       "       [1.285e+03, 0.000e+00],\n",
       "       [1.286e+03, 0.000e+00],\n",
       "       [1.287e+03, 1.000e+00],\n",
       "       [1.288e+03, 0.000e+00],\n",
       "       [1.289e+03, 1.000e+00],\n",
       "       [1.290e+03, 0.000e+00],\n",
       "       [1.291e+03, 0.000e+00],\n",
       "       [1.292e+03, 1.000e+00],\n",
       "       [1.293e+03, 0.000e+00],\n",
       "       [1.294e+03, 1.000e+00],\n",
       "       [1.295e+03, 0.000e+00],\n",
       "       [1.296e+03, 0.000e+00],\n",
       "       [1.297e+03, 0.000e+00],\n",
       "       [1.298e+03, 0.000e+00],\n",
       "       [1.299e+03, 0.000e+00],\n",
       "       [1.300e+03, 1.000e+00],\n",
       "       [1.301e+03, 1.000e+00],\n",
       "       [1.302e+03, 1.000e+00],\n",
       "       [1.303e+03, 1.000e+00],\n",
       "       [1.304e+03, 0.000e+00],\n",
       "       [1.305e+03, 0.000e+00],\n",
       "       [1.306e+03, 1.000e+00],\n",
       "       [1.307e+03, 0.000e+00],\n",
       "       [1.308e+03, 0.000e+00],\n",
       "       [1.309e+03, 0.000e+00]])"
      ]
     },
     "execution_count": 54,
     "metadata": {},
     "output_type": "execute_result"
    }
   ],
   "source": [
    "from numpy import genfromtxt\n",
    "data = genfromtxt('titanic.csv',delimiter=',')\n",
    "data"
   ]
  },
  {
   "cell_type": "code",
   "execution_count": 57,
   "id": "3002a3b6",
   "metadata": {},
   "outputs": [
    {
     "name": "stdout",
     "output_type": "stream",
     "text": [
      "(419, 2)\n"
     ]
    }
   ],
   "source": [
    "print(data.shape)"
   ]
  },
  {
   "cell_type": "code",
   "execution_count": 58,
   "id": "1c49eba8",
   "metadata": {},
   "outputs": [],
   "source": [
    "from matplotlib import pyplot as plt"
   ]
  },
  {
   "cell_type": "code",
   "execution_count": 64,
   "id": "c8efacb0",
   "metadata": {
    "scrolled": false
   },
   "outputs": [
    {
     "data": {
      "text/plain": [
       "Text(0, 0.5, 'y label')"
      ]
     },
     "execution_count": 64,
     "metadata": {},
     "output_type": "execute_result"
    },
    {
     "data": {
      "image/png": "[encoded data removed]",
      "text/plain": [
       "<Figure size 1400x400 with 1 Axes>"
      ]
     },
     "metadata": {},
     "output_type": "display_data"
    }
   ],
   "source": [
    "fig,ax = plt.subplots(figsize=(14,4))\n",
    "ax.scatter(data[:,0],data[:,1])\n",
    "ax.set_title('Example')\n",
    "ax.set_xlabel(\"x label\")\n",
    "ax.set_ylabel(\"y label\")"
   ]
  },
  {
   "cell_type": "code",
   "execution_count": 68,
   "id": "09885692",
   "metadata": {},
   "outputs": [
    {
     "name": "stdout",
     "output_type": "stream",
     "text": [
      "[[0.40008358 0.05003044 0.357134   0.03445878 0.03745541]\n",
      " [0.62362493 0.04933549 0.21328527 0.00655746 0.63263276]\n",
      " [0.36484737 0.07662264 0.73929615 0.63174817 0.75857316]\n",
      " [0.28004928 0.30242034 0.33410416 0.04097938 0.81873317]\n",
      " [0.5819442  0.15262518 0.89810708 0.74911269 0.85792008]\n",
      " [0.70127157 0.75892717 0.79892712 0.29354826 0.22490198]\n",
      " [0.77665631 0.67758851 0.38719481 0.14484174 0.23024892]\n",
      " [0.89437924 0.39117223 0.94379235 0.03184161 0.41954284]\n",
      " [0.22916177 0.48633175 0.03109113 0.23350062 0.74455429]\n",
      " [0.56467022 0.33651996 0.24926239 0.31285844 0.73186248]]\n"
     ]
    }
   ],
   "source": [
    "# Generate a Matrix\n",
    "M = random.rand(10,5)\n",
    "np.savetxt(\"random-matrix.csv\",M,delimiter=',')\n",
    "print(M)"
   ]
  },
  {
   "cell_type": "code",
   "execution_count": 69,
   "id": "906f4f5f",
   "metadata": {},
   "outputs": [
    {
     "name": "stdout",
     "output_type": "stream",
     "text": [
      "4.000835763236137987e-01,5.003044462195260778e-02,3.571339981588731449e-01,3.445877818666809311e-02,3.745540778717570962e-02\n",
      "6.236249327770033712e-01,4.933549105988510597e-02,2.132852737042215674e-01,6.557456975529563081e-03,6.326327563066923565e-01\n",
      "3.648473667682310406e-01,7.662264306806421121e-02,7.392961482279365448e-01,6.317481665531533563e-01,7.585731594565477964e-01\n",
      "2.800492751720035089e-01,3.024203406648401371e-01,3.341041641347390900e-01,4.097937754337011018e-02,8.187331674186393293e-01\n",
      "5.819441959186049118e-01,1.526251843330679314e-01,8.981070802238438899e-01,7.491126902644268393e-01,8.579200796321314604e-01\n",
      "7.012715656799316521e-01,7.589271705110305355e-01,7.989271172875220817e-01,2.935482639132668270e-01,2.249019790419650722e-01\n",
      "7.766563144016982445e-01,6.775885072978290458e-01,3.871948131253659664e-01,1.448417426832819821e-01,2.302489239949685462e-01\n",
      "8.943792388162583595e-01,3.911722252951577161e-01,9.437923531559755386e-01,3.184160522473122867e-02,4.195428365847551078e-01\n",
      "2.291617676904592615e-01,4.863317534921340890e-01,3.109113486395076453e-02,2.335006162004656938e-01,7.445542934107536315e-01\n",
      "5.646702152623870319e-01,3.365199592713519205e-01,2.492623880909027312e-01,3.128584408742174361e-01,7.318624787238888763e-01\n"
     ]
    }
   ],
   "source": [
    "!cat random-matrix.csv"
   ]
  },
  {
   "cell_type": "code",
   "execution_count": 70,
   "id": "e4bbb7a6",
   "metadata": {},
   "outputs": [],
   "source": [
    "M = np.savetxt(\"random-matrix.csv\",M,fmt='%.2f')"
   ]
  },
  {
   "cell_type": "code",
   "execution_count": 71,
   "id": "8c57ecab",
   "metadata": {},
   "outputs": [
    {
     "name": "stdout",
     "output_type": "stream",
     "text": [
      "0.40 0.05 0.36 0.03 0.04\n",
      "0.62 0.05 0.21 0.01 0.63\n",
      "0.36 0.08 0.74 0.63 0.76\n",
      "0.28 0.30 0.33 0.04 0.82\n",
      "0.58 0.15 0.90 0.75 0.86\n",
      "0.70 0.76 0.80 0.29 0.22\n",
      "0.78 0.68 0.39 0.14 0.23\n",
      "0.89 0.39 0.94 0.03 0.42\n",
      "0.23 0.49 0.03 0.23 0.74\n",
      "0.56 0.34 0.25 0.31 0.73\n"
     ]
    }
   ],
   "source": [
    "!cat random-matrix.csv"
   ]
  },
  {
   "cell_type": "code",
   "execution_count": 76,
   "id": "d49113da",
   "metadata": {},
   "outputs": [],
   "source": [
    "M = random.rand(10,5)\n",
    "np.save(\"random-matrix.npy\",M)"
   ]
  },
  {
   "cell_type": "code",
   "execution_count": 77,
   "id": "e8047d90",
   "metadata": {},
   "outputs": [
    {
     "data": {
      "text/plain": [
       "array([[0.90652922, 0.818504  , 0.97616828, 0.47718244, 0.88760202],\n",
       "       [0.43843514, 0.42018614, 0.21137073, 0.17820412, 0.69066759],\n",
       "       [0.43689724, 0.54972567, 0.4483437 , 0.882619  , 0.96857089],\n",
       "       [0.17656102, 0.68079322, 0.38358175, 0.51106058, 0.0337098 ],\n",
       "       [0.54419766, 0.049455  , 0.49772239, 0.03464465, 0.11539868],\n",
       "       [0.69972503, 0.79091718, 0.33254319, 0.06460679, 0.19327942],\n",
       "       [0.34161749, 0.03931507, 0.55665251, 0.45793424, 0.09149163],\n",
       "       [0.40559797, 0.52001381, 0.80785819, 0.2231415 , 0.25905254],\n",
       "       [0.21007308, 0.13991654, 0.8054907 , 0.87002517, 0.73940692],\n",
       "       [0.49509512, 0.07649395, 0.34963625, 0.26021086, 0.89463071]])"
      ]
     },
     "execution_count": 77,
     "metadata": {},
     "output_type": "execute_result"
    }
   ],
   "source": [
    "np.load(\"random-matrix.npy\")"
   ]
  },
  {
   "cell_type": "code",
   "execution_count": 78,
   "id": "46166a52",
   "metadata": {},
   "outputs": [],
   "source": [
    "M = random.rand(2,3)"
   ]
  },
  {
   "cell_type": "code",
   "execution_count": 79,
   "id": "4fdb3666",
   "metadata": {},
   "outputs": [
    {
     "data": {
      "text/plain": [
       "array([[0.13403799, 0.82595681, 0.01935538],\n",
       "       [0.37649327, 0.8816425 , 0.68850123]])"
      ]
     },
     "execution_count": 79,
     "metadata": {},
     "output_type": "execute_result"
    }
   ],
   "source": [
    "M"
   ]
  },
  {
   "cell_type": "code",
   "execution_count": 80,
   "id": "d4894ed9",
   "metadata": {},
   "outputs": [
    {
     "data": {
      "text/plain": [
       "8"
      ]
     },
     "execution_count": 80,
     "metadata": {},
     "output_type": "execute_result"
    }
   ],
   "source": [
    "M.itemsize"
   ]
  },
  {
   "cell_type": "code",
   "execution_count": 81,
   "id": "fedccdb5",
   "metadata": {},
   "outputs": [
    {
     "data": {
      "text/plain": [
       "48"
      ]
     },
     "execution_count": 81,
     "metadata": {},
     "output_type": "execute_result"
    }
   ],
   "source": [
    "M.nbytes"
   ]
  },
  {
   "cell_type": "code",
   "execution_count": 84,
   "id": "f9334966",
   "metadata": {},
   "outputs": [
    {
     "data": {
      "text/plain": [
       "6"
      ]
     },
     "execution_count": 84,
     "metadata": {},
     "output_type": "execute_result"
    }
   ],
   "source": [
    "items = int(M.nbytes/M.itemsize)\n",
    "items"
   ]
  },
  {
   "cell_type": "code",
   "execution_count": 85,
   "id": "6fe357ac",
   "metadata": {},
   "outputs": [
    {
     "data": {
      "text/plain": [
       "6"
      ]
     },
     "execution_count": 85,
     "metadata": {},
     "output_type": "execute_result"
    }
   ],
   "source": [
    "M.size"
   ]
  },
  {
   "cell_type": "code",
   "execution_count": 87,
   "id": "013a4d2b",
   "metadata": {},
   "outputs": [
    {
     "data": {
      "text/plain": [
       "2"
      ]
     },
     "execution_count": 87,
     "metadata": {},
     "output_type": "execute_result"
    }
   ],
   "source": [
    "M.ndim  #number of dimensions"
   ]
  },
  {
   "cell_type": "code",
   "execution_count": 91,
   "id": "f8975042",
   "metadata": {},
   "outputs": [
    {
     "name": "stdout",
     "output_type": "stream",
     "text": [
      "0.8816425048771825\n",
      "[0.13403799 0.82595681 0.01935538]\n",
      "[[0.13403799 0.82595681 0.01935538]\n",
      " [0.37649327 0.8816425  0.68850123]]\n"
     ]
    }
   ],
   "source": [
    "print(M[1,1])\n",
    "print(M[0])\n",
    "print(M[0:][:])\n"
   ]
  },
  {
   "cell_type": "code",
   "execution_count": 93,
   "id": "32e3c303",
   "metadata": {},
   "outputs": [
    {
     "data": {
      "text/plain": [
       "array([[ 0.13403799,  0.82595681, -1.        ],\n",
       "       [ 0.        ,  0.        , -1.        ]])"
      ]
     },
     "execution_count": 93,
     "metadata": {},
     "output_type": "execute_result"
    }
   ],
   "source": [
    "M[1,:]=0\n",
    "M[:,2] =-1\n",
    "M"
   ]
  },
  {
   "cell_type": "code",
   "execution_count": 94,
   "id": "86c7f43a",
   "metadata": {},
   "outputs": [
    {
     "data": {
      "text/plain": [
       "array([1, 3, 5, 7, 9])"
      ]
     },
     "execution_count": 94,
     "metadata": {},
     "output_type": "execute_result"
    }
   ],
   "source": [
    "v = np.array([1,2,3,4,5,6,7,8,9])\n",
    "v[::2]"
   ]
  },
  {
   "cell_type": "code",
   "execution_count": 96,
   "id": "514b2a7e",
   "metadata": {},
   "outputs": [
    {
     "data": {
      "text/plain": [
       "[0, 1, 2, 3, 4, 5, 6, 7, 8, 9]"
      ]
     },
     "execution_count": 96,
     "metadata": {},
     "output_type": "execute_result"
    }
   ],
   "source": [
    "exm = [i for i in range(10)]\n",
    "exm"
   ]
  },
  {
   "cell_type": "code",
   "execution_count": 97,
   "id": "5209980d",
   "metadata": {},
   "outputs": [
    {
     "data": {
      "text/plain": [
       "array([1, 2, 3, 4, 5, 6, 7, 8, 9])"
      ]
     },
     "execution_count": 97,
     "metadata": {},
     "output_type": "execute_result"
    }
   ],
   "source": [
    "v"
   ]
  },
  {
   "cell_type": "code",
   "execution_count": 98,
   "id": "71f8d140",
   "metadata": {},
   "outputs": [
    {
     "data": {
      "text/plain": [
       "array([[ 0,  1,  2,  3,  4],\n",
       "       [10, 11, 12, 13, 14],\n",
       "       [20, 21, 22, 23, 24],\n",
       "       [30, 31, 32, 33, 34],\n",
       "       [40, 41, 42, 43, 44]])"
      ]
     },
     "execution_count": 98,
     "metadata": {},
     "output_type": "execute_result"
    }
   ],
   "source": [
    "M = np.array(\n",
    "[\n",
    "    [n+m*10 for n in range(5)] for m in range(5)\n",
    "])\n",
    "M"
   ]
  },
  {
   "cell_type": "code",
   "execution_count": 99,
   "id": "c692017e",
   "metadata": {},
   "outputs": [
    {
     "data": {
      "text/plain": [
       "array([[ 0,  1,  2,  3,  4],\n",
       "       [20, 21, 22, 23, 24],\n",
       "       [30, 31, 32, 33, 34]])"
      ]
     },
     "execution_count": 99,
     "metadata": {},
     "output_type": "execute_result"
    }
   ],
   "source": [
    "M[[0,2,3]] # show row number 0 , 2 ,3"
   ]
  },
  {
   "cell_type": "code",
   "execution_count": 103,
   "id": "4efbfe09",
   "metadata": {},
   "outputs": [
    {
     "name": "stdout",
     "output_type": "stream",
     "text": [
      "Wall time: 3 ms\n"
     ]
    }
   ],
   "source": [
    "%%time\n",
    "v1 = np.arange(0,5000)\n",
    "for i in range(v1.shape[0]):\n",
    "    v1[i] *= 2"
   ]
  },
  {
   "cell_type": "code",
   "execution_count": 102,
   "id": "474441ab",
   "metadata": {},
   "outputs": [
    {
     "name": "stdout",
     "output_type": "stream",
     "text": [
      "Wall time: 0 ns\n"
     ]
    }
   ],
   "source": [
    "%%time\n",
    "v1 *= 2"
   ]
  },
  {
   "cell_type": "code",
   "execution_count": 104,
   "id": "099a1a7b",
   "metadata": {},
   "outputs": [
    {
     "data": {
      "text/plain": [
       "array([       0,        4,       16, ..., 99880036, 99920016, 99960004])"
      ]
     },
     "execution_count": 104,
     "metadata": {},
     "output_type": "execute_result"
    }
   ],
   "source": [
    "v1*v1"
   ]
  },
  {
   "cell_type": "code",
   "execution_count": 105,
   "id": "cde93e6e",
   "metadata": {},
   "outputs": [
    {
     "data": {
      "text/plain": [
       "((5, 5), (5000,))"
      ]
     },
     "execution_count": 105,
     "metadata": {},
     "output_type": "execute_result"
    }
   ],
   "source": [
    "M.shape,v1.shape"
   ]
  },
  {
   "cell_type": "code",
   "execution_count": 107,
   "id": "617c2765",
   "metadata": {},
   "outputs": [
    {
     "ename": "ValueError",
     "evalue": "operands could not be broadcast together with shapes (5,5) (5000,) ",
     "output_type": "error",
     "traceback": [
      "\u001b[1;31m---------------------------------------------------------------------------\u001b[0m",
      "\u001b[1;31mValueError\u001b[0m                                Traceback (most recent call last)",
      "\u001b[1;32m~\\AppData\\Local\\Temp\\ipykernel_2652\\515283771.py\u001b[0m in \u001b[0;36m<module>\u001b[1;34m\u001b[0m\n\u001b[1;32m----> 1\u001b[1;33m \u001b[0mM\u001b[0m\u001b[1;33m*\u001b[0m\u001b[0mv1\u001b[0m  \u001b[1;31m# array sizes do not match\u001b[0m\u001b[1;33m\u001b[0m\u001b[1;33m\u001b[0m\u001b[0m\n\u001b[0m",
      "\u001b[1;31mValueError\u001b[0m: operands could not be broadcast together with shapes (5,5) (5000,) "
     ]
    }
   ],
   "source": [
    "M*v1  # array sizes do not match"
   ]
  },
  {
   "cell_type": "code",
   "execution_count": 109,
   "id": "69daac6d",
   "metadata": {},
   "outputs": [
    {
     "data": {
      "text/plain": [
       "array([[ 300,  310,  320,  330,  340],\n",
       "       [1300, 1360, 1420, 1480, 1540],\n",
       "       [2300, 2410, 2520, 2630, 2740],\n",
       "       [3300, 3460, 3620, 3780, 3940],\n",
       "       [4300, 4510, 4720, 4930, 5140]])"
      ]
     },
     "execution_count": 109,
     "metadata": {},
     "output_type": "execute_result"
    }
   ],
   "source": [
    "np.dot(M,M)"
   ]
  },
  {
   "cell_type": "code",
   "execution_count": 110,
   "id": "88fe9fd4",
   "metadata": {},
   "outputs": [
    {
     "data": {
      "text/plain": [
       "array([[  30,  130,  230,  330,  430],\n",
       "       [ 130,  730, 1330, 1930, 2530],\n",
       "       [ 230, 1330, 2430, 3530, 4630],\n",
       "       [ 330, 1930, 3530, 5130, 6730],\n",
       "       [ 430, 2530, 4630, 6730, 8830]])"
      ]
     },
     "execution_count": 110,
     "metadata": {},
     "output_type": "execute_result"
    }
   ],
   "source": [
    "np.dot(M,M.T)"
   ]
  },
  {
   "cell_type": "code",
   "execution_count": 112,
   "id": "a6f455d7",
   "metadata": {},
   "outputs": [
    {
     "data": {
      "text/plain": [
       "array([[   0,   10,   40,   90,  160],\n",
       "       [  10,  121,  252,  403,  574],\n",
       "       [  40,  252,  484,  736, 1008],\n",
       "       [  90,  403,  736, 1089, 1462],\n",
       "       [ 160,  574, 1008, 1462, 1936]])"
      ]
     },
     "execution_count": 112,
     "metadata": {},
     "output_type": "execute_result"
    }
   ],
   "source": [
    "# Inner Product\n",
    "M.T*M\n",
    "# Outer Product\n",
    "M*M.T"
   ]
  },
  {
   "cell_type": "code",
   "execution_count": 113,
   "id": "49eefe1e",
   "metadata": {},
   "outputs": [
    {
     "data": {
      "text/plain": [
       "44"
      ]
     },
     "execution_count": 113,
     "metadata": {},
     "output_type": "execute_result"
    }
   ],
   "source": [
    "M.max()"
   ]
  },
  {
   "cell_type": "code",
   "execution_count": 114,
   "id": "c0469a10",
   "metadata": {},
   "outputs": [
    {
     "data": {
      "text/plain": [
       "array([40, 41, 42, 43, 44])"
      ]
     },
     "execution_count": 114,
     "metadata": {},
     "output_type": "execute_result"
    }
   ],
   "source": [
    "M.max(axis=0) # in columns"
   ]
  },
  {
   "cell_type": "code",
   "execution_count": 115,
   "id": "5d4a461f",
   "metadata": {},
   "outputs": [
    {
     "data": {
      "text/plain": [
       "array([ 4, 14, 24, 34, 44])"
      ]
     },
     "execution_count": 115,
     "metadata": {},
     "output_type": "execute_result"
    }
   ],
   "source": [
    "M.max(axis=1) # in rows"
   ]
  },
  {
   "cell_type": "markdown",
   "id": "dd094f9e",
   "metadata": {},
   "source": [
    "# Tasks I200873 Muhammad Subhan"
   ]
  },
  {
   "cell_type": "code",
   "execution_count": 116,
   "id": "d8df4845",
   "metadata": {},
   "outputs": [
    {
     "data": {
      "text/plain": [
       "array([1, 2, 3])"
      ]
     },
     "execution_count": 116,
     "metadata": {},
     "output_type": "execute_result"
    }
   ],
   "source": [
    "# Construct an array from the list: [1,2,3]\n",
    "array = np.array([1,2,3])\n",
    "array"
   ]
  },
  {
   "cell_type": "code",
   "execution_count": 120,
   "id": "7863b293",
   "metadata": {},
   "outputs": [
    {
     "name": "stdout",
     "output_type": "stream",
     "text": [
      "[1 2 3]\n"
     ]
    }
   ],
   "source": [
    "# Task 2\n",
    "array.astype(np.float32)\n",
    "print(array)"
   ]
  },
  {
   "cell_type": "code",
   "execution_count": 123,
   "id": "421e35bf",
   "metadata": {},
   "outputs": [
    {
     "data": {
      "text/plain": [
       "array([0, 1, 2, 3, 4, 5, 6, 7, 8, 9])"
      ]
     },
     "execution_count": 123,
     "metadata": {},
     "output_type": "execute_result"
    }
   ],
   "source": [
    "# Task 3\n",
    "a2 = np.arange(0,10)\n",
    "a2"
   ]
  },
  {
   "cell_type": "code",
   "execution_count": 124,
   "id": "926ec345",
   "metadata": {},
   "outputs": [
    {
     "data": {
      "text/plain": [
       "array([ 0.        ,  3.83333333,  7.66666667, 11.5       , 15.33333333,\n",
       "       19.16666667, 23.        ])"
      ]
     },
     "execution_count": 124,
     "metadata": {},
     "output_type": "execute_result"
    }
   ],
   "source": [
    "# Task 4\n",
    "np.linspace(0,23,7)"
   ]
  },
  {
   "cell_type": "code",
   "execution_count": 136,
   "id": "56c09329",
   "metadata": {},
   "outputs": [
    {
     "data": {
      "text/plain": [
       "array([[[[[[ 0],\n",
       "           [ 1]],\n",
       "\n",
       "          [[ 2],\n",
       "           [ 3]],\n",
       "\n",
       "          [[ 4],\n",
       "           [ 5]],\n",
       "\n",
       "          [[ 6],\n",
       "           [ 7]],\n",
       "\n",
       "          [[ 8],\n",
       "           [ 9]]]],\n",
       "\n",
       "\n",
       "\n",
       "        [[[[10],\n",
       "           [11]],\n",
       "\n",
       "          [[12],\n",
       "           [13]],\n",
       "\n",
       "          [[14],\n",
       "           [15]],\n",
       "\n",
       "          [[16],\n",
       "           [17]],\n",
       "\n",
       "          [[18],\n",
       "           [19]]]],\n",
       "\n",
       "\n",
       "\n",
       "        [[[[20],\n",
       "           [21]],\n",
       "\n",
       "          [[22],\n",
       "           [23]],\n",
       "\n",
       "          [[24],\n",
       "           [25]],\n",
       "\n",
       "          [[26],\n",
       "           [27]],\n",
       "\n",
       "          [[28],\n",
       "           [29]]]],\n",
       "\n",
       "\n",
       "\n",
       "        [[[[30],\n",
       "           [31]],\n",
       "\n",
       "          [[32],\n",
       "           [33]],\n",
       "\n",
       "          [[34],\n",
       "           [35]],\n",
       "\n",
       "          [[36],\n",
       "           [37]],\n",
       "\n",
       "          [[38],\n",
       "           [39]]]],\n",
       "\n",
       "\n",
       "\n",
       "        [[[[40],\n",
       "           [41]],\n",
       "\n",
       "          [[42],\n",
       "           [43]],\n",
       "\n",
       "          [[44],\n",
       "           [45]],\n",
       "\n",
       "          [[46],\n",
       "           [47]],\n",
       "\n",
       "          [[48],\n",
       "           [49]]]]],\n",
       "\n",
       "\n",
       "\n",
       "\n",
       "       [[[[[50],\n",
       "           [51]],\n",
       "\n",
       "          [[52],\n",
       "           [53]],\n",
       "\n",
       "          [[54],\n",
       "           [55]],\n",
       "\n",
       "          [[56],\n",
       "           [57]],\n",
       "\n",
       "          [[58],\n",
       "           [59]]]],\n",
       "\n",
       "\n",
       "\n",
       "        [[[[60],\n",
       "           [61]],\n",
       "\n",
       "          [[62],\n",
       "           [63]],\n",
       "\n",
       "          [[64],\n",
       "           [65]],\n",
       "\n",
       "          [[66],\n",
       "           [67]],\n",
       "\n",
       "          [[68],\n",
       "           [69]]]],\n",
       "\n",
       "\n",
       "\n",
       "        [[[[70],\n",
       "           [71]],\n",
       "\n",
       "          [[72],\n",
       "           [73]],\n",
       "\n",
       "          [[74],\n",
       "           [75]],\n",
       "\n",
       "          [[76],\n",
       "           [77]],\n",
       "\n",
       "          [[78],\n",
       "           [79]]]],\n",
       "\n",
       "\n",
       "\n",
       "        [[[[80],\n",
       "           [81]],\n",
       "\n",
       "          [[82],\n",
       "           [83]],\n",
       "\n",
       "          [[84],\n",
       "           [85]],\n",
       "\n",
       "          [[86],\n",
       "           [87]],\n",
       "\n",
       "          [[88],\n",
       "           [89]]]],\n",
       "\n",
       "\n",
       "\n",
       "        [[[[90],\n",
       "           [91]],\n",
       "\n",
       "          [[92],\n",
       "           [93]],\n",
       "\n",
       "          [[94],\n",
       "           [95]],\n",
       "\n",
       "          [[96],\n",
       "           [97]],\n",
       "\n",
       "          [[98],\n",
       "           [99]]]]]])"
      ]
     },
     "execution_count": 136,
     "metadata": {},
     "output_type": "execute_result"
    }
   ],
   "source": [
    "# Task 5\n",
    "t5 = np.arange(0,100)\n",
    "t5 = t5.reshape(2,5,1,5,2,1)\n",
    "t5"
   ]
  },
  {
   "cell_type": "code",
   "execution_count": 137,
   "id": "f77a8b64",
   "metadata": {},
   "outputs": [
    {
     "data": {
      "text/plain": [
       "(2, 5, 5, 2)"
      ]
     },
     "execution_count": 137,
     "metadata": {},
     "output_type": "execute_result"
    }
   ],
   "source": [
    "# Task 6\n",
    "t5 = t5.squeeze()\n",
    "t5.shape"
   ]
  },
  {
   "cell_type": "code",
   "execution_count": 138,
   "id": "fc367279",
   "metadata": {},
   "outputs": [
    {
     "data": {
      "text/plain": [
       "array([[ 0,  1],\n",
       "       [ 2,  3],\n",
       "       [ 4,  5],\n",
       "       [ 6,  7],\n",
       "       [ 8,  9],\n",
       "       [10, 11],\n",
       "       [12, 13],\n",
       "       [14, 15],\n",
       "       [16, 17],\n",
       "       [18, 19],\n",
       "       [20, 21],\n",
       "       [22, 23],\n",
       "       [24, 25],\n",
       "       [26, 27],\n",
       "       [28, 29],\n",
       "       [30, 31],\n",
       "       [32, 33],\n",
       "       [34, 35],\n",
       "       [36, 37],\n",
       "       [38, 39],\n",
       "       [40, 41],\n",
       "       [42, 43],\n",
       "       [44, 45],\n",
       "       [46, 47],\n",
       "       [48, 49],\n",
       "       [50, 51],\n",
       "       [52, 53],\n",
       "       [54, 55],\n",
       "       [56, 57],\n",
       "       [58, 59],\n",
       "       [60, 61],\n",
       "       [62, 63],\n",
       "       [64, 65],\n",
       "       [66, 67],\n",
       "       [68, 69],\n",
       "       [70, 71],\n",
       "       [72, 73],\n",
       "       [74, 75],\n",
       "       [76, 77],\n",
       "       [78, 79],\n",
       "       [80, 81],\n",
       "       [82, 83],\n",
       "       [84, 85],\n",
       "       [86, 87],\n",
       "       [88, 89],\n",
       "       [90, 91],\n",
       "       [92, 93],\n",
       "       [94, 95],\n",
       "       [96, 97],\n",
       "       [98, 99]])"
      ]
     },
     "execution_count": 138,
     "metadata": {},
     "output_type": "execute_result"
    }
   ],
   "source": [
    "# Task 7\n",
    "t5 = t5.reshape(50,2)\n",
    "t5"
   ]
  },
  {
   "cell_type": "code",
   "execution_count": 140,
   "id": "5e431eaf",
   "metadata": {},
   "outputs": [
    {
     "data": {
      "text/plain": [
       "array([ 0,  1,  2,  3,  4,  5,  6,  7,  8,  9, 10, 11, 12, 13, 14, 15, 16,\n",
       "       17, 18, 19, 20, 21, 22, 23, 24, 25, 26, 27, 28, 29, 30, 31, 32, 33,\n",
       "       34, 35, 36, 37, 38, 39, 40, 41, 42, 43, 44, 45, 46, 47, 48, 49, 50,\n",
       "       51, 52, 53, 54, 55, 56, 57, 58, 59, 60, 61, 62, 63, 64, 65, 66, 67,\n",
       "       68, 69, 70, 71, 72, 73, 74, 75, 76, 77, 78, 79, 80, 81, 82, 83, 84,\n",
       "       85, 86, 87, 88, 89, 90, 91, 92, 93, 94, 95, 96, 97, 98, 99])"
      ]
     },
     "execution_count": 140,
     "metadata": {},
     "output_type": "execute_result"
    }
   ],
   "source": [
    "# Task 10\n",
    "t5 = t5.flatten()\n",
    "t5"
   ]
  },
  {
   "cell_type": "code",
   "execution_count": 141,
   "id": "54ed3db7",
   "metadata": {},
   "outputs": [
    {
     "data": {
      "text/plain": [
       "array([ 0,  1,  2,  3,  4,  5,  6,  7,  8,  9, 10, 11, 12, 13, 14, 15, 16,\n",
       "       17, 18, 19, 20, 21, 22, 23, 24, 25, 26, 27, 28, 29, 30, 31, 32, 33,\n",
       "       34, 35, 36, 37, 38, 39, 40, 41, 42, 43, 44, 45, 46, 47, 48, 49, 50,\n",
       "       51, 52, 53, 54, 55, 56, 57, 58, 59, 60, 61, 62, 63, 64, 65, 66, 67,\n",
       "       68, 69, 70, 71, 72, 73, 74, 75, 76, 77, 78, 79, 80, 81, 82, 83, 84,\n",
       "       85, 86, 87, 88, 89, 90, 91, 92, 93, 94, 95, 96, 97, 98, 99])"
      ]
     },
     "execution_count": 141,
     "metadata": {},
     "output_type": "execute_result"
    }
   ],
   "source": [
    "# task 11\n",
    "np.save(\"task11.npy\",t5)\n",
    "np.load(\"task11.npy\")"
   ]
  },
  {
   "cell_type": "code",
   "execution_count": 142,
   "id": "07b4dbd8",
   "metadata": {},
   "outputs": [
    {
     "data": {
      "text/plain": [
       "26"
      ]
     },
     "execution_count": 142,
     "metadata": {},
     "output_type": "execute_result"
    }
   ],
   "source": [
    "# task \n",
    "t5 = np.clip(t5, 15, 26)\n",
    "t5.max()"
   ]
  },
  {
   "cell_type": "code",
   "execution_count": null,
   "id": "cbf8dd6e",
   "metadata": {},
   "outputs": [],
   "source": []
  }
 ],
 "metadata": {
  "kernelspec": {
   "display_name": "Python 3 (ipykernel)",
   "language": "python",
   "name": "python3"
  },
  "language_info": {
   "codemirror_mode": {
    "name": "ipython",
    "version": 3
   },
   "file_extension": ".py",
   "mimetype": "text/x-python",
   "name": "python",
   "nbconvert_exporter": "python",
   "pygments_lexer": "ipython3",
   "version": "3.9.16"
  }
 },
 "nbformat": 4,
 "nbformat_minor": 5
}
